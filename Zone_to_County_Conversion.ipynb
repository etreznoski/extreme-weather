{
 "cells": [
  {
   "cell_type": "code",
   "execution_count": 1,
   "id": "official-economics",
   "metadata": {},
   "outputs": [],
   "source": [
    "# Dependencies\n",
    "import pandas as pd\n",
    "\n",
    "pd.set_option(\"display.max_rows\", None, \"display.max_columns\", None)"
   ]
  },
  {
   "cell_type": "code",
   "execution_count": 2,
   "id": "commercial-bolivia",
   "metadata": {},
   "outputs": [],
   "source": [
    "shared_info = pd.read_csv(\"NOAA_csvs/possible_zone_conversions.csv\").drop(columns=['State','drop1',\n",
    "    'drop2','drop3','drop4'])\n",
    "noaa_wildfires = pd.read_csv(\"NOAA_csvs/wildfires_2010_2019.csv\").drop(columns=['EVENT_ID',\n",
    "    'BEGIN_LOCATION', 'BEGIN_TIME',\n",
    "       'EVENT_TYPE', 'MAGNITUDE', 'TOR_F_SCALE', 'DEATHS_DIRECT',\n",
    "       'INJURIES_DIRECT', 'DAMAGE_PROPERTY_NUM', 'DAMAGE_CROPS_NUM',\n",
    "       'STATE_ABBR', 'CZ_TIMEZONE', 'MAGNITUDE_TYPE', 'EPISODE_ID', 'CZ_TYPE',\n",
    "    'WFO', 'INJURIES_INDIRECT', 'DEATHS_INDIRECT', 'SOURCE',\n",
    "       'FLOOD_CAUSE', 'TOR_LENGTH', 'TOR_WIDTH', 'BEGIN_RANGE',\n",
    "       'BEGIN_AZIMUTH', 'END_RANGE', 'END_AZIMUTH', 'END_LOCATION',\n",
    "       'BEGIN_LAT', 'BEGIN_LON', 'END_LAT', 'END_LON', 'EVENT_NARRATIVE',\n",
    "       'EPISODE_NARRATIVE', 'ABSOLUTE_ROWNUMBER'])\n",
    "# Renames NOAA data columns.\n",
    "noaa_wildfires.rename(columns={\"CZ_NAME_STR\":\"Zone\",\"BEGIN_DATE\":\"Begin_Date\",\"CZ_FIPS\":\"NOAA_FIP\"}, inplace=True)\n",
    "\n",
    "# Makes sure Conversion FIPS are three digits.\n",
    "new_fips = [str((fip - 6000)).zfill(3) for fip in shared_info[\"FIP\"]]\n",
    "shared_info[\"FIP\"] = new_fips\n",
    "new_fips = [str((fip)).zfill(3) for fip in shared_info[\"NOAA_FIP\"]]\n",
    "shared_info[\"NOAA_FIP\"] = new_fips\n",
    "shared_info[\"NOAA_FIP\"].astype(int)\n",
    "\n",
    "# Makes sure NOAA FIPS are three digits.\n",
    "new_noaa_fips = [str((fip)).zfill(3) for fip in noaa_wildfires[\"NOAA_FIP\"]]\n",
    "noaa_wildfires[\"NOAA_FIP\"] = new_noaa_fips\n",
    "noaa_wildfires[\"NOAA_FIP\"].astype(int)\n",
    "\n",
    "# Shared DataFrame\n",
    "combo = pd.merge(shared_info, noaa_wildfires, how=\"outer\",on=\"NOAA_FIP\")"
   ]
  },
  {
   "cell_type": "code",
   "execution_count": 8,
   "id": "heavy-nicaragua",
   "metadata": {},
   "outputs": [],
   "source": [
    "combo.sort_values(\"NOAA_FIP\")\n",
    "combo.to_csv(\"NOAA_csvs/combined_zone_county_data.csv\", encoding=\"utf-8\", index=False)"
   ]
  },
  {
   "cell_type": "code",
   "execution_count": null,
   "id": "postal-payday",
   "metadata": {},
   "outputs": [],
   "source": []
  }
 ],
 "metadata": {
  "kernelspec": {
   "display_name": "Python 3",
   "language": "python",
   "name": "python3"
  },
  "language_info": {
   "codemirror_mode": {
    "name": "ipython",
    "version": 3
   },
   "file_extension": ".py",
   "mimetype": "text/x-python",
   "name": "python",
   "nbconvert_exporter": "python",
   "pygments_lexer": "ipython3",
   "version": "3.6.10"
  }
 },
 "nbformat": 4,
 "nbformat_minor": 5
}
