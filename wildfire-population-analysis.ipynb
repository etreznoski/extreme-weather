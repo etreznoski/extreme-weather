{
 "cells": [
  {
   "cell_type": "code",
   "execution_count": 1,
   "id": "romantic-racing",
   "metadata": {},
   "outputs": [],
   "source": [
    "# Dependencies\n",
    "import numpy as np\n",
    "import pandas as pd\n",
    "import matplotlib.pyplot as plt\n",
    "import requests\n",
    "from census import Census\n",
    "from us import states\n",
    "\n",
    "# Census API Key\n",
    "from config import api_key\n",
    "c = Census(api_key, year=2010)"
   ]
  },
  {
   "cell_type": "code",
   "execution_count": 2,
   "id": "olympic-brunswick",
   "metadata": {},
   "outputs": [],
   "source": [
    "# Importing csv files for wildfires and for census.\n",
    "wildfires = pd.read_csv(\"NOAA_CSVs/wildfires_2010_2019.csv\")\n",
    "census_data = pd.read_csv(\"census_data_ca_county.csv\")"
   ]
  },
  {
   "cell_type": "code",
   "execution_count": 22,
   "id": "partial-india",
   "metadata": {},
   "outputs": [],
   "source": [
    "wildfires_county_groups = wildfires.groupby(\"CZ_FIPS\")\n",
    "county_fire_counts = wildfires_county_groups[\"CZ_FIPS\"].value_counts()"
   ]
  },
  {
   "cell_type": "code",
   "execution_count": 24,
   "id": "portuguese-warning",
   "metadata": {},
   "outputs": [
    {
     "data": {
      "text/plain": [
       "0      48\n",
       "1      43\n",
       "2      48\n",
       "3      56\n",
       "4      48\n",
       "       ..\n",
       "384    45\n",
       "390    44\n",
       "391    40\n",
       "392    45\n",
       "394    44\n",
       "Name: CZ_FIPS, Length: 210, dtype: int64"
      ]
     },
     "execution_count": 24,
     "metadata": {},
     "output_type": "execute_result"
    }
   ],
   "source": [
    "wildfires_county_groups[\"CZ_FIPS\".head()"
   ]
  },
  {
   "cell_type": "code",
   "execution_count": 47,
   "id": "extended-pregnancy",
   "metadata": {},
   "outputs": [],
   "source": [
    "def fires_by_county(fip):\n",
    "    individual_county_fire_list = wildfires.loc[wildfires[\"CZ_FIPS\"] == fip]\n",
    "    for fire in individual_county_fire_list:\n",
    "        \n",
    "    \n",
    "    \n",
    "    fire_count = 0\n",
    "    if wildfires.loc[wildfires[\"CZ_FIPS\"] == fip]:\n",
    "        fire_count = fire_count + 1\n",
    "        wf_pop_analysis[fip][\"Fire Count\"] = fire_count"
   ]
  },
  {
   "cell_type": "code",
   "execution_count": 48,
   "id": "fundamental-addiction",
   "metadata": {},
   "outputs": [
    {
     "ename": "ValueError",
     "evalue": "The truth value of a DataFrame is ambiguous. Use a.empty, a.bool(), a.item(), a.any() or a.all().",
     "output_type": "error",
     "traceback": [
      "\u001b[1;31m---------------------------------------------------------------------------\u001b[0m",
      "\u001b[1;31mValueError\u001b[0m                                Traceback (most recent call last)",
      "\u001b[1;32m<ipython-input-48-353b0cd9863c>\u001b[0m in \u001b[0;36m<module>\u001b[1;34m\u001b[0m\n\u001b[0;32m      6\u001b[0m \u001b[1;33m\u001b[0m\u001b[0m\n\u001b[0;32m      7\u001b[0m \u001b[1;32mfor\u001b[0m \u001b[0mfip\u001b[0m \u001b[1;32min\u001b[0m \u001b[0mwf_pop_analysis\u001b[0m\u001b[1;33m[\u001b[0m\u001b[1;34m\"FIP\"\u001b[0m\u001b[1;33m]\u001b[0m\u001b[1;33m:\u001b[0m\u001b[1;33m\u001b[0m\u001b[1;33m\u001b[0m\u001b[0m\n\u001b[1;32m----> 8\u001b[1;33m     \u001b[0mfires_by_county\u001b[0m\u001b[1;33m(\u001b[0m\u001b[0mfip\u001b[0m\u001b[1;33m)\u001b[0m\u001b[1;33m\u001b[0m\u001b[1;33m\u001b[0m\u001b[0m\n\u001b[0m\u001b[0;32m      9\u001b[0m \u001b[1;33m\u001b[0m\u001b[0m\n\u001b[0;32m     10\u001b[0m \u001b[1;31m# Resets the index so the FIPS are ordered by County.\u001b[0m\u001b[1;33m\u001b[0m\u001b[1;33m\u001b[0m\u001b[1;33m\u001b[0m\u001b[0m\n",
      "\u001b[1;32m<ipython-input-47-f1c92e494467>\u001b[0m in \u001b[0;36mfires_by_county\u001b[1;34m(fip)\u001b[0m\n\u001b[0;32m      1\u001b[0m \u001b[1;32mdef\u001b[0m \u001b[0mfires_by_county\u001b[0m\u001b[1;33m(\u001b[0m\u001b[0mfip\u001b[0m\u001b[1;33m)\u001b[0m\u001b[1;33m:\u001b[0m\u001b[1;33m\u001b[0m\u001b[1;33m\u001b[0m\u001b[0m\n\u001b[0;32m      2\u001b[0m     \u001b[0mfire_count\u001b[0m \u001b[1;33m=\u001b[0m \u001b[1;36m0\u001b[0m\u001b[1;33m\u001b[0m\u001b[1;33m\u001b[0m\u001b[0m\n\u001b[1;32m----> 3\u001b[1;33m     \u001b[1;32mif\u001b[0m \u001b[0mwildfires\u001b[0m\u001b[1;33m.\u001b[0m\u001b[0mloc\u001b[0m\u001b[1;33m[\u001b[0m\u001b[0mwildfires\u001b[0m\u001b[1;33m[\u001b[0m\u001b[1;34m\"CZ_FIPS\"\u001b[0m\u001b[1;33m]\u001b[0m \u001b[1;33m==\u001b[0m \u001b[0mfip\u001b[0m\u001b[1;33m]\u001b[0m\u001b[1;33m:\u001b[0m\u001b[1;33m\u001b[0m\u001b[1;33m\u001b[0m\u001b[0m\n\u001b[0m\u001b[0;32m      4\u001b[0m         \u001b[0mfire_count\u001b[0m \u001b[1;33m=\u001b[0m \u001b[0mfire_count\u001b[0m \u001b[1;33m+\u001b[0m \u001b[1;36m1\u001b[0m\u001b[1;33m\u001b[0m\u001b[1;33m\u001b[0m\u001b[0m\n\u001b[0;32m      5\u001b[0m         \u001b[0mwf_pop_analysis\u001b[0m\u001b[1;33m[\u001b[0m\u001b[0mfip\u001b[0m\u001b[1;33m]\u001b[0m\u001b[1;33m[\u001b[0m\u001b[1;34m\"Fire Count\"\u001b[0m\u001b[1;33m]\u001b[0m \u001b[1;33m=\u001b[0m \u001b[0mfire_count\u001b[0m\u001b[1;33m\u001b[0m\u001b[1;33m\u001b[0m\u001b[0m\n",
      "\u001b[1;32m~\\anaconda3\\envs\\PythonData\\lib\\site-packages\\pandas\\core\\generic.py\u001b[0m in \u001b[0;36m__nonzero__\u001b[1;34m(self)\u001b[0m\n\u001b[0;32m   1477\u001b[0m     \u001b[1;32mdef\u001b[0m \u001b[0m__nonzero__\u001b[0m\u001b[1;33m(\u001b[0m\u001b[0mself\u001b[0m\u001b[1;33m)\u001b[0m\u001b[1;33m:\u001b[0m\u001b[1;33m\u001b[0m\u001b[1;33m\u001b[0m\u001b[0m\n\u001b[0;32m   1478\u001b[0m         raise ValueError(\n\u001b[1;32m-> 1479\u001b[1;33m             \u001b[1;34mf\"The truth value of a {type(self).__name__} is ambiguous. \"\u001b[0m\u001b[1;33m\u001b[0m\u001b[1;33m\u001b[0m\u001b[0m\n\u001b[0m\u001b[0;32m   1480\u001b[0m             \u001b[1;34m\"Use a.empty, a.bool(), a.item(), a.any() or a.all().\"\u001b[0m\u001b[1;33m\u001b[0m\u001b[1;33m\u001b[0m\u001b[0m\n\u001b[0;32m   1481\u001b[0m         )\n",
      "\u001b[1;31mValueError\u001b[0m: The truth value of a DataFrame is ambiguous. Use a.empty, a.bool(), a.item(), a.any() or a.all()."
     ]
    }
   ],
   "source": [
    "# Creates a new DataFrame which will pull out only the relevant columns.\n",
    "wf_pop_analysis = pd.DataFrame()\n",
    "wf_pop_analysis[\"FIP\"] = census_data[\"County\"]\n",
    "wf_pop_analysis[\"Population\"] = census_data[\"Population\"].astype(int)\n",
    "wf_pop_analysis[\"Fire Count\"] = \"\"\n",
    "\n",
    "for fip in wf_pop_analysis[\"FIP\"]:\n",
    "    fires_by_county(fip)\n",
    "\n",
    "# Resets the index so the FIPS are ordered by County.\n",
    "# wf_pop_analysis.set_index(\"FIP\", inplace=True)\n",
    "# wf_pop_analysis.reset_index()"
   ]
  },
  {
   "cell_type": "code",
   "execution_count": 37,
   "id": "accompanied-replacement",
   "metadata": {},
   "outputs": [
    {
     "data": {
      "image/png": "[encoded data removed]",
      "text/plain": [
       "<Figure size 432x288 with 1 Axes>"
      ]
     },
     "metadata": {
      "needs_background": "light"
     },
     "output_type": "display_data"
    }
   ],
   "source": [
    "# Shows population in millions for each CA county.\n",
    "plt.bar(wf_pop_analysis[\"FIP\"],(wf_pop_analysis[\"Population\"]/1000000))\n",
    "plt.title(\"Population (in Millions) for CA Counties\")\n",
    "plt.xlabel(\"County FIP ID\")\n",
    "plt.ylabel(\"Population (in Millions)\")\n",
    "\n",
    "plt.savefig(\"jacob_pngs/CA_County_Populations.png\")"
   ]
  }
 ],
 "metadata": {
  "kernelspec": {
   "display_name": "PythonData",
   "language": "python",
   "name": "pythondata"
  },
  "language_info": {
   "codemirror_mode": {
    "name": "ipython",
    "version": 3
   },
   "file_extension": ".py",
   "mimetype": "text/x-python",
   "name": "python",
   "nbconvert_exporter": "python",
   "pygments_lexer": "ipython3",
   "version": "3.6.10"
  }
 },
 "nbformat": 4,
 "nbformat_minor": 5
}
