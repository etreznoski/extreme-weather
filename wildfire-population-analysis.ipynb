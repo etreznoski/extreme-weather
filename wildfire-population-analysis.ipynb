{
 "cells": [
  {
   "cell_type": "code",
   "execution_count": 1,
   "id": "explicit-swimming",
   "metadata": {},
   "outputs": [],
   "source": [
    "# Dependencies\n",
    "import numpy as np\n",
    "import pandas as pd\n",
    "import matplotlib.pyplot as plt\n",
    "import requests\n",
    "from census import Census\n",
    "from us import states"
   ]
  },
  {
   "cell_type": "code",
   "execution_count": 2,
   "id": "auburn-brooklyn",
   "metadata": {},
   "outputs": [],
   "source": [
    "# Importing csv files for wildfires and for census years.\n",
    "wildfires = pd.read_csv(\"NOAA_CSVs/wildfires_2010_2019.csv\")\n",
    "census_data_2010 = pd.read_csv(f\"Census_csvs/2010_census_data_ca_county.csv\")\n",
    "census_data_2011 = pd.read_csv(f\"Census_csvs/2011_census_data_ca_county.csv\")\n",
    "census_data_2012 = pd.read_csv(f\"Census_csvs/2012_census_data_ca_county.csv\")\n",
    "census_data_2013 = pd.read_csv(f\"Census_csvs/2013_census_data_ca_county.csv\")\n",
    "census_data_2014 = pd.read_csv(f\"Census_csvs/2014_census_data_ca_county.csv\")\n",
    "census_data_2015 = pd.read_csv(f\"Census_csvs/2015_census_data_ca_county.csv\")\n",
    "census_data_2016 = pd.read_csv(f\"Census_csvs/2016_census_data_ca_county.csv\")\n",
    "census_data_2017 = pd.read_csv(f\"Census_csvs/2017_census_data_ca_county.csv\")\n",
    "census_data_2018 = pd.read_csv(f\"Census_csvs/2018_census_data_ca_county.csv\")\n",
    "census_data_2019 = pd.read_csv(f\"Census_csvs/2019_census_data_ca_county.csv\")"
   ]
  },
  {
   "cell_type": "code",
   "execution_count": 3,
   "id": "approximate-wallet",
   "metadata": {},
   "outputs": [],
   "source": [
    "def rename_location(fire):\n",
    "    name = fire.partition(\" COUNTY\")\n",
    "    fire = str(name[0] + name[1])\n",
    "    return fire\n",
    "def filter_counties(list1, list2):\n",
    "    return ([i for i in list1 if\n",
    "             any(j in i for j in list2)])"
   ]
  },
  {
   "cell_type": "code",
   "execution_count": 4,
   "id": "endless-middle",
   "metadata": {},
   "outputs": [],
   "source": [
    "# PROBABLY WANT TO USE THIS ELSEWHERE LATER ON BUT FOR NOW WANT ALL COLUMNS ------------------------------\n",
    "# Makes smaller DataFrame from wildfires for relevant columns.\n",
    "# wildfires = wildfires[['EVENT_ID','CZ_NAME_STR','CZ_FIPS']]\n",
    "\n",
    "# Variables for parsing lists.\n",
    "fire = \"\"\n",
    "new_names = []\n",
    "chosen_names = []\n",
    "substring = \"(ZONE)\"\n",
    "census_names = [census_data_2010[\"Name\"]]\n",
    "\n",
    "# Parses through both lists of counties and pulls out only shared values.\n",
    "for fire in wildfires[\"CZ_NAME_STR\"]:\n",
    "    fire = rename_location(fire)\n",
    "    new_names.append(fire)\n",
    "wildfires[\"CZ_NAME_STR\"] = new_names\n",
    "for name in new_names:\n",
    "    if substring not in name:\n",
    "        if name not in chosen_names:\n",
    "            chosen_names.append(name.title())\n",
    "for name in census_data_2010['Name']:\n",
    "    census_names.append(name.title())\n",
    "list1 = census_names\n",
    "list2 = chosen_names\n",
    "utile_counties = filter_counties(list1, list2)\n",
    "for county in range(len(utile_counties)):\n",
    "    utile_counties[county] = utile_counties[county].upper()"
   ]
  },
  {
   "cell_type": "code",
   "execution_count": 5,
   "id": "outer-induction",
   "metadata": {},
   "outputs": [],
   "source": [
    "# Reduces NOAA data to rows found in the usable counties. (119 Fires in Ten Years)\n",
    "chosen_fires = pd.DataFrame()\n",
    "chosen_fires = wildfires[wildfires[\"CZ_NAME_STR\"].isin(utile_counties)]\n",
    "# Renames columns.\n",
    "chosen_fires = chosen_fires[['EVENT_ID','CZ_NAME_STR','CZ_FIPS']]\n",
    "chosen_fires.rename(columns={\"EVENT_ID\":\"Fire ID\",\"CZ_NAME_STR\":\"County Name\",\"CZ_FIPS\":\"FIP\"}, inplace=True)"
   ]
  },
  {
   "cell_type": "code",
   "execution_count": 6,
   "id": "atlantic-concert",
   "metadata": {},
   "outputs": [],
   "source": [
    "# Fire counts by county. Renames columns.\n",
    "county_fires = pd.DataFrame(chosen_fires[\"County Name\"].value_counts())\n",
    "county_fires = county_fires.reset_index()\n",
    "county_fires.rename(columns={\"index\":\"County\",\"County Name\":\"Fires\"},inplace=True)\n",
    "county_fires = county_fires.sort_values(\"Fires\",ascending=False)\n",
    "county_fires.set_index(\"County\")\n",
    "county_fires = county_fires.reset_index(inplace=True)\n",
    "county_fires"
   ]
  },
  {
   "cell_type": "code",
   "execution_count": 7,
   "id": "indoor-integral",
   "metadata": {},
   "outputs": [],
   "source": [
    "# Converts counties to title case.\n",
    "for county in range(len(utile_counties)):\n",
    "    utile_counties[county] = utile_counties[county].title()   \n",
    "    \n",
    "# Parsing all census data to only include selected counties.\n",
    "census_data_2010 = census_data_2010[census_data_2010[\"Name\"].isin(utile_counties)]\n",
    "census_data_2011 = census_data_2011[census_data_2011[\"Name\"].isin(utile_counties)]\n",
    "census_data_2012 = census_data_2012[census_data_2012[\"Name\"].isin(utile_counties)]\n",
    "census_data_2013 = census_data_2013[census_data_2013[\"Name\"].isin(utile_counties)]\n",
    "census_data_2014 = census_data_2014[census_data_2014[\"Name\"].isin(utile_counties)]\n",
    "census_data_2015 = census_data_2015[census_data_2015[\"Name\"].isin(utile_counties)]\n",
    "census_data_2016 = census_data_2016[census_data_2016[\"Name\"].isin(utile_counties)]\n",
    "census_data_2017 = census_data_2017[census_data_2017[\"Name\"].isin(utile_counties)]\n",
    "census_data_2018 = census_data_2018[census_data_2018[\"Name\"].isin(utile_counties)]\n",
    "census_data_2019 = census_data_2019[census_data_2019[\"Name\"].isin(utile_counties)]\n"
   ]
  },
  {
   "cell_type": "code",
   "execution_count": 8,
   "id": "about-diving",
   "metadata": {},
   "outputs": [
    {
     "ename": "TypeError",
     "evalue": "'NoneType' object is not subscriptable",
     "output_type": "error",
     "traceback": [
      "\u001b[1;31m---------------------------------------------------------------------------\u001b[0m",
      "\u001b[1;31mTypeError\u001b[0m                                 Traceback (most recent call last)",
      "\u001b[1;32m<ipython-input-8-02326e245ce2>\u001b[0m in \u001b[0;36m<module>\u001b[1;34m\u001b[0m\n\u001b[0;32m      1\u001b[0m \u001b[1;31m# Fire Count columns for all years.\u001b[0m\u001b[1;33m\u001b[0m\u001b[1;33m\u001b[0m\u001b[1;33m\u001b[0m\u001b[0m\n\u001b[1;32m----> 2\u001b[1;33m \u001b[0mfire\u001b[0m \u001b[1;33m=\u001b[0m \u001b[0mpd\u001b[0m\u001b[1;33m.\u001b[0m\u001b[0mDataFrame\u001b[0m\u001b[1;33m(\u001b[0m\u001b[0mcounty_fires\u001b[0m\u001b[1;33m[\u001b[0m\u001b[1;34m\"County\"\u001b[0m\u001b[1;33m]\u001b[0m\u001b[1;33m)\u001b[0m\u001b[1;33m.\u001b[0m\u001b[0msort_values\u001b[0m\u001b[1;33m(\u001b[0m\u001b[1;34m\"County\"\u001b[0m\u001b[1;33m)\u001b[0m\u001b[1;33m\u001b[0m\u001b[1;33m\u001b[0m\u001b[0m\n\u001b[0m\u001b[0;32m      3\u001b[0m \u001b[0mfire\u001b[0m\u001b[1;33m[\u001b[0m\u001b[1;34m\"County\"\u001b[0m\u001b[1;33m]\u001b[0m \u001b[1;33m=\u001b[0m \u001b[0mfire\u001b[0m\u001b[1;33m[\u001b[0m\u001b[1;34m\"County\"\u001b[0m\u001b[1;33m]\u001b[0m\u001b[1;33m.\u001b[0m\u001b[0mstr\u001b[0m\u001b[1;33m.\u001b[0m\u001b[0mtitle\u001b[0m\u001b[1;33m(\u001b[0m\u001b[1;33m)\u001b[0m\u001b[1;33m\u001b[0m\u001b[1;33m\u001b[0m\u001b[0m\n\u001b[0;32m      4\u001b[0m \u001b[0mfire\u001b[0m \u001b[1;33m=\u001b[0m \u001b[0mfire\u001b[0m\u001b[1;33m.\u001b[0m\u001b[0mset_index\u001b[0m\u001b[1;33m(\u001b[0m\u001b[1;34m\"County\"\u001b[0m\u001b[1;33m)\u001b[0m\u001b[1;33m.\u001b[0m\u001b[0mreset_index\u001b[0m\u001b[1;33m(\u001b[0m\u001b[1;33m)\u001b[0m\u001b[1;33m\u001b[0m\u001b[1;33m\u001b[0m\u001b[0m\n\u001b[0;32m      5\u001b[0m \u001b[0mfire\u001b[0m\u001b[1;33m[\u001b[0m\u001b[1;34m\"2010 Fires\"\u001b[0m\u001b[1;33m]\u001b[0m \u001b[1;33m=\u001b[0m \u001b[1;34m\"\"\u001b[0m\u001b[1;33m\u001b[0m\u001b[1;33m\u001b[0m\u001b[0m\n",
      "\u001b[1;31mTypeError\u001b[0m: 'NoneType' object is not subscriptable"
     ]
    }
   ],
   "source": [
    "# Fire Count columns for all years.\n",
    "fire = pd.DataFrame(county_fires[\"County\"]).sort_values(\"County\")\n",
    "fire[\"County\"] = fire[\"County\"].str.title()\n",
    "fire = fire.set_index(\"County\").reset_index()\n",
    "fire[\"2010 Fires\"] = \"\"\n",
    "fire[\"2011 Fires\"] = \"\"\n",
    "fire[\"2012 Fires\"] = \"\"\n",
    "fire[\"2013 Fires\"] = \"\"\n",
    "fire[\"2014 Fires\"] = \"\"\n",
    "fire[\"2015 Fires\"] = \"\"\n",
    "fire[\"2016 Fires\"] = \"\"\n",
    "fire[\"2017 Fires\"] = \"\"\n",
    "fire[\"2018 Fires\"] = \"\"\n",
    "fire[\"2019 Fires\"] = \"\"\n",
    "# Population columns for all years.\n",
    "pop = pd.DataFrame(county_fires[\"County\"]).sort_values(\"County\")\n",
    "pop[\"County\"] = pop[\"County\"].str.title()\n",
    "pop = pop.set_index(\"County\").reset_index()\n",
    "pop[\"2010 Pop.\"] = \"\"\n",
    "pop[\"2011 Pop.\"] = \"\"\n",
    "pop[\"2012 Pop.\"] = \"\"\n",
    "pop[\"2013 Pop.\"] = \"\"\n",
    "pop[\"2014 Pop.\"] = \"\"\n",
    "pop[\"2015 Pop.\"] = \"\"\n",
    "pop[\"2016 Pop.\"] = \"\"\n",
    "pop[\"2017 Pop.\"] = \"\"\n",
    "pop[\"2018 Pop.\"] = \"\"\n",
    "pop[\"2019 Pop.\"] = \"\""
   ]
  },
  {
   "cell_type": "code",
   "execution_count": null,
   "id": "polar-recruitment",
   "metadata": {},
   "outputs": [],
   "source": [
    "# Bar graphing.\n",
    "x_values = county_fires[\"County\"]\n",
    "y_values = county_fires[\"Fires\"]\n",
    "plt.bar(x_values, y_values)\n",
    "plt.xticks(rotation='vertical')\n",
    "plt.yticks([0,5,10,15,20,25,30])\n",
    "plt.ylabel(\"Number of Fires\")\n",
    "plt.title(\"Fires per County (2010-2019)\")\n",
    "for i, v in enumerate(y_values):\n",
    "    plt.text(i,v+2,y_values[i],fontsize=10,ha='center',va='center')\n",
    "plt.tight_layout()\n",
    "#plt.savefig(\"jacob_pngs/CA_County_Fire_Counts.png\")"
   ]
  }
 ],
 "metadata": {
  "kernelspec": {
   "display_name": "Python 3",
   "language": "python",
   "name": "python3"
  },
  "language_info": {
   "codemirror_mode": {
    "name": "ipython",
    "version": 3
   },
   "file_extension": ".py",
   "mimetype": "text/x-python",
   "name": "python",
   "nbconvert_exporter": "python",
   "pygments_lexer": "ipython3",
   "version": "3.6.10"
  }
 },
 "nbformat": 4,
 "nbformat_minor": 5
}
