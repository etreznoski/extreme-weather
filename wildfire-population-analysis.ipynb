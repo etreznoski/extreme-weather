{
 "cells": [
  {
   "cell_type": "code",
   "execution_count": 1,
   "id": "explicit-swimming",
   "metadata": {},
   "outputs": [],
   "source": [
    "# Dependencies\n",
    "import numpy as np\n",
    "import pandas as pd\n",
    "import matplotlib.pyplot as plt\n",
    "import requests\n",
    "from census import Census\n",
    "from us import states"
   ]
  },
  {
   "cell_type": "code",
   "execution_count": 2,
   "id": "fourth-assurance",
   "metadata": {},
   "outputs": [],
   "source": [
    "# Importing csv files for wildfires and for census years.\n",
    "wildfires = pd.read_csv(\"NOAA_CSVs/wildfires_2010_2019.csv\")\n",
    "census_data_2010 = pd.read_csv(f\"Census_csvs/2010_census_data_ca_county.csv\")\n",
    "census_data_2011 = pd.read_csv(f\"Census_csvs/2011_census_data_ca_county.csv\")\n",
    "census_data_2012 = pd.read_csv(f\"Census_csvs/2012_census_data_ca_county.csv\")\n",
    "census_data_2013 = pd.read_csv(f\"Census_csvs/2013_census_data_ca_county.csv\")\n",
    "census_data_2014 = pd.read_csv(f\"Census_csvs/2014_census_data_ca_county.csv\")\n",
    "census_data_2015 = pd.read_csv(f\"Census_csvs/2015_census_data_ca_county.csv\")\n",
    "census_data_2016 = pd.read_csv(f\"Census_csvs/2016_census_data_ca_county.csv\")\n",
    "census_data_2017 = pd.read_csv(f\"Census_csvs/2017_census_data_ca_county.csv\")\n",
    "census_data_2018 = pd.read_csv(f\"Census_csvs/2018_census_data_ca_county.csv\")\n",
    "census_data_2019 = pd.read_csv(f\"Census_csvs/2019_census_data_ca_county.csv\")"
   ]
  },
  {
   "cell_type": "code",
   "execution_count": 3,
   "id": "corporate-sierra",
   "metadata": {},
   "outputs": [],
   "source": [
    "def rename_location(fire):\n",
    "    name = fire.partition(\" COUNTY\")\n",
    "    fire = str(name[0] + name[1])\n",
    "    return fire\n",
    "def filter_counties(list1, list2):\n",
    "    return ([i for i in list1 if\n",
    "             any(j in i for j in list2)])"
   ]
  },
  {
   "cell_type": "code",
   "execution_count": 4,
   "id": "endless-middle",
   "metadata": {},
   "outputs": [],
   "source": [
    "# PROBABLY WANT TO USE THIS ELSEWHERE LATER ON BUT FOR NOW WANT ALL COLUMNS ------------------------------\n",
    "# Makes smaller DataFrame from wildfires for relevant columns.\n",
    "# wildfires = wildfires[['EVENT_ID','CZ_NAME_STR','CZ_FIPS']]\n",
    "\n",
    "# Variables for parsing lists.\n",
    "fire = \"\"\n",
    "new_names = []\n",
    "chosen_names = []\n",
    "substring = \"(ZONE)\"\n",
    "census_names = [census_data_2010[\"Name\"]]\n",
    "\n",
    "# Parses through both lists of counties and pulls out only shared values.\n",
    "for fire in wildfires[\"CZ_NAME_STR\"]:\n",
    "    fire = rename_location(fire)\n",
    "    new_names.append(fire)\n",
    "wildfires[\"CZ_NAME_STR\"] = new_names\n",
    "for name in new_names:\n",
    "    if substring not in name:\n",
    "        if name not in chosen_names:\n",
    "            chosen_names.append(name.title())\n",
    "for name in census_data_2010['Name']:\n",
    "    census_names.append(name.title())\n",
    "list1 = census_names\n",
    "list2 = chosen_names\n",
    "utile_counties = filter_counties(list1, list2)\n",
    "for county in range(len(utile_counties)):\n",
    "    utile_counties[county] = utile_counties[county].upper()"
   ]
  },
  {
   "cell_type": "code",
   "execution_count": 5,
   "id": "entitled-casino",
   "metadata": {},
   "outputs": [],
   "source": [
    "# Reduces NOAA data to rows found in the usable counties. (119 Fires in Ten Years)\n",
    "chosen_fires = pd.DataFrame()\n",
    "chosen_fires = wildfires[wildfires[\"CZ_NAME_STR\"].isin(utile_counties)]\n",
    "# Renames columns.\n",
    "chosen_fires = chosen_fires[['EVENT_ID','CZ_NAME_STR','CZ_FIPS']]\n",
    "chosen_fires.rename(columns={\"EVENT_ID\":\"Fire ID\",\"CZ_NAME_STR\":\"County Name\",\"CZ_FIPS\":\"FIP\"}, inplace=True)"
   ]
  },
  {
   "cell_type": "code",
   "execution_count": 6,
   "id": "vocal-asthma",
   "metadata": {},
   "outputs": [
    {
     "data": {
      "text/html": [
       "<div>\n",
       "<style scoped>\n",
       "    .dataframe tbody tr th:only-of-type {\n",
       "        vertical-align: middle;\n",
       "    }\n",
       "\n",
       "    .dataframe tbody tr th {\n",
       "        vertical-align: top;\n",
       "    }\n",
       "\n",
       "    .dataframe thead th {\n",
       "        text-align: right;\n",
       "    }\n",
       "</style>\n",
       "<table border=\"1\" class=\"dataframe\">\n",
       "  <thead>\n",
       "    <tr style=\"text-align: right;\">\n",
       "      <th></th>\n",
       "      <th>County</th>\n",
       "      <th>Fires</th>\n",
       "    </tr>\n",
       "  </thead>\n",
       "  <tbody>\n",
       "    <tr>\n",
       "      <th>2</th>\n",
       "      <td>LOS ANGELES COUNTY</td>\n",
       "      <td>16</td>\n",
       "    </tr>\n",
       "    <tr>\n",
       "      <th>3</th>\n",
       "      <td>MODOC COUNTY</td>\n",
       "      <td>16</td>\n",
       "    </tr>\n",
       "    <tr>\n",
       "      <th>9</th>\n",
       "      <td>ORANGE COUNTY</td>\n",
       "      <td>2</td>\n",
       "    </tr>\n",
       "    <tr>\n",
       "      <th>7</th>\n",
       "      <td>RIVERSIDE COUNTY</td>\n",
       "      <td>6</td>\n",
       "    </tr>\n",
       "    <tr>\n",
       "      <th>4</th>\n",
       "      <td>SAN BERNARDINO COUNTY</td>\n",
       "      <td>14</td>\n",
       "    </tr>\n",
       "    <tr>\n",
       "      <th>0</th>\n",
       "      <td>SAN DIEGO COUNTY</td>\n",
       "      <td>25</td>\n",
       "    </tr>\n",
       "    <tr>\n",
       "      <th>8</th>\n",
       "      <td>SAN LUIS OBISPO COUNTY</td>\n",
       "      <td>4</td>\n",
       "    </tr>\n",
       "    <tr>\n",
       "      <th>5</th>\n",
       "      <td>SANTA BARBARA COUNTY</td>\n",
       "      <td>11</td>\n",
       "    </tr>\n",
       "    <tr>\n",
       "      <th>6</th>\n",
       "      <td>TULARE COUNTY</td>\n",
       "      <td>6</td>\n",
       "    </tr>\n",
       "    <tr>\n",
       "      <th>1</th>\n",
       "      <td>VENTURA COUNTY</td>\n",
       "      <td>19</td>\n",
       "    </tr>\n",
       "  </tbody>\n",
       "</table>\n",
       "</div>"
      ],
      "text/plain": [
       "                   County  Fires\n",
       "2      LOS ANGELES COUNTY     16\n",
       "3            MODOC COUNTY     16\n",
       "9           ORANGE COUNTY      2\n",
       "7        RIVERSIDE COUNTY      6\n",
       "4   SAN BERNARDINO COUNTY     14\n",
       "0        SAN DIEGO COUNTY     25\n",
       "8  SAN LUIS OBISPO COUNTY      4\n",
       "5    SANTA BARBARA COUNTY     11\n",
       "6           TULARE COUNTY      6\n",
       "1          VENTURA COUNTY     19"
      ]
     },
     "execution_count": 6,
     "metadata": {},
     "output_type": "execute_result"
    }
   ],
   "source": [
    "# Fire counts by county. Renames columns.\n",
    "county_fires = pd.DataFrame(chosen_fires[\"County Name\"].value_counts())\n",
    "county_fires = county_fires.reset_index()\n",
    "county_fires.rename(columns={\"index\":\"County\",\"County Name\":\"Fires\"},inplace=True)\n",
    "county_fires = county_fires.sort_values(\"County\")\n",
    "county_fires.set_index(\"County\")\n",
    "county_fires.reset_index()\n",
    "county_fires"
   ]
  },
  {
   "cell_type": "code",
   "execution_count": 7,
   "id": "touched-plumbing",
   "metadata": {},
   "outputs": [
    {
     "data": {
      "text/plain": [
       "<BarContainer object of 10 artists>"
      ]
     },
     "execution_count": 7,
     "metadata": {},
     "output_type": "execute_result"
    },
    {
     "data": {
      "image/png": "[encoded data removed]",
      "text/plain": [
       "<Figure size 432x288 with 1 Axes>"
      ]
     },
     "metadata": {
      "needs_background": "light"
     },
     "output_type": "display_data"
    }
   ],
   "source": [
    "# Bar graphing.\n",
    "x_values = county_fires[\"County\"]\n",
    "y_values = county_fires[\"Fires\"]\n",
    "plt.bar(x_values, y_values)"
   ]
  },
  {
   "cell_type": "code",
   "execution_count": null,
   "id": "quantitative-rates",
   "metadata": {},
   "outputs": [],
   "source": []
  }
 ],
 "metadata": {
  "kernelspec": {
   "display_name": "Python 3",
   "language": "python",
   "name": "python3"
  },
  "language_info": {
   "codemirror_mode": {
    "name": "ipython",
    "version": 3
   },
   "file_extension": ".py",
   "mimetype": "text/x-python",
   "name": "python",
   "nbconvert_exporter": "python",
   "pygments_lexer": "ipython3",
   "version": "3.6.10"
  }
 },
 "nbformat": 4,
 "nbformat_minor": 5
}
