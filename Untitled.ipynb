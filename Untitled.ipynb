{
 "cells": [
  {
   "cell_type": "code",
   "execution_count": 3,
   "id": "convenient-words",
   "metadata": {},
   "outputs": [],
   "source": [
    "# Dependencies\n",
    "import numpy as np\n",
    "import pandas as pd\n",
    "import matplotlib.pyplot as plt\n",
    "from scipy import stats\n",
    "import requests\n",
    "from census import Census\n",
    "from us import states\n",
    "\n",
    "pd.set_option(\"display.max_rows\", None, \"display.max_columns\", None)"
   ]
  },
  {
   "cell_type": "code",
   "execution_count": 30,
   "id": "stunning-external",
   "metadata": {},
   "outputs": [
    {
     "data": {
      "text/plain": [
       "Index(['County', '2010 Fires', '2010 Pop.', '2011 Fires', '2011 Pop.',\n",
       "       '2012 Fires', '2012 Pop.', '2013 Fires', '2013 Pop.', '2014 Fires',\n",
       "       '2014 Pop.', '2015 Fires', '2015 Pop.', '2016 Fires', '2016 Pop.',\n",
       "       '2017 Fires', '2017 Pop.', '2018 Fires', '2018 Pop.', '2019 Fires',\n",
       "       '2019 Pop.'],\n",
       "      dtype='object')"
      ]
     },
     "execution_count": 30,
     "metadata": {},
     "output_type": "execute_result"
    }
   ],
   "source": [
    "data = pd.read_csv(\"NOAA_csvs/yearly_pop_fire_data.csv\")\n",
    "pops = data[['County','2010 Pop.','2011 Pop.','2012 Pop.','2013 Pop.','2014 Pop.', '2015 Pop.','2016 Pop.','2017 Pop.','2018 Pop.','2019 Pop.']]\n",
    "fires = data[['County', '2010 Fires', '2010 Pop.', '2011 Fires', '2011 Pop.',\n",
    "       '2012 Fires', '2012 Pop.', '2013 Fires', '2013 Pop.', '2014 Fires',\n",
    "       '2014 Pop.', '2015 Fires', '2015 Pop.', '2016 Fires', '2016 Pop.',\n",
    "       '2017 Fires', '2017 Pop.', '2018 Fires', '2018 Pop.', '2019 Fires',\n",
    "       '2019 Pop.']]\n",
    "data.columns"
   ]
  },
  {
   "cell_type": "code",
   "execution_count": 27,
   "id": "figured-bankruptcy",
   "metadata": {},
   "outputs": [
    {
     "data": {
      "text/plain": [
       "County             NaN\n",
       "2010 Fires    0.310345\n",
       "2010 Pop.       631677\n",
       "2011 Fires    0.206897\n",
       "2011 Pop.       637400\n",
       "2012 Fires     0.37931\n",
       "2012 Pop.       643536\n",
       "2013 Fires    0.706897\n",
       "2013 Pop.       649296\n",
       "2014 Fires    0.758621\n",
       "2014 Pop.       656326\n",
       "2015 Fires         0.5\n",
       "2015 Pop.       662439\n",
       "2016 Fires    0.482759\n",
       "2016 Pop.       666452\n",
       "2017 Fires    0.603448\n",
       "2017 Pop.       672118\n",
       "2018 Fires    0.517241\n",
       "2018 Pop.       674979\n",
       "2019 Fires     0.87931\n",
       "2019 Pop.       677302\n",
       "Name: mean, dtype: object"
      ]
     },
     "execution_count": 27,
     "metadata": {},
     "output_type": "execute_result"
    }
   ],
   "source": [
    "mean"
   ]
  },
  {
   "cell_type": "code",
   "execution_count": null,
   "id": "modular-divorce",
   "metadata": {},
   "outputs": [],
   "source": []
  }
 ],
 "metadata": {
  "kernelspec": {
   "display_name": "Python 3",
   "language": "python",
   "name": "python3"
  },
  "language_info": {
   "codemirror_mode": {
    "name": "ipython",
    "version": 3
   },
   "file_extension": ".py",
   "mimetype": "text/x-python",
   "name": "python",
   "nbconvert_exporter": "python",
   "pygments_lexer": "ipython3",
   "version": "3.6.10"
  }
 },
 "nbformat": 4,
 "nbformat_minor": 5
}
