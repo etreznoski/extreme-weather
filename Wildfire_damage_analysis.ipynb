{
 "cells": [
  {
   "cell_type": "code",
   "execution_count": 1,
   "id": "accepted-wages",
   "metadata": {},
   "outputs": [],
   "source": [
    "# Dependencies\n",
    "import gmaps\n",
    "import numpy as np\n",
    "import pandas as pd\n",
    "import requests\n",
    "import time\n",
    "from scipy.stats import linregress\n",
    "from matplotlib import pyplot as plt"
   ]
  },
  {
   "cell_type": "code",
   "execution_count": 66,
   "id": "mechanical-water",
   "metadata": {},
   "outputs": [
    {
     "data": {
      "text/plain": [
       "WESTERN SISKIYOU COUNTY (ZONE)                                            32\n",
       "SAN BERNARDINO AND RIVERSIDE COUNTY VALLEYS - THE INLAND EMPIRE (ZONE)    30\n",
       "S SIERRA MTNS (ZONE)                                                      25\n",
       "KERN CTY MTNS (ZONE)                                                      24\n",
       "S SIERRA FOOTHILLS (ZONE)                                                 22\n",
       "                                                                          ..\n",
       "ORANGE COUNTY INLAND (ZONE)                                                1\n",
       "SOUTHEASTERN MENDOCINO INTERIOR (ZONE)                                     1\n",
       "SAN FRANCISCO PENINSULA COAST (ZONE)                                       1\n",
       "LOS ANGELES COUNTY SAN GABRIEL VALLEY (ZONE)                               1\n",
       "LOS ANGELES COUNTY COASTS INCLUDING DOWNTOWN LOS ANGELES (ZONE)            1\n",
       "Name: CZ_NAME_STR, Length: 74, dtype: int64"
      ]
     },
     "execution_count": 66,
     "metadata": {},
     "output_type": "execute_result"
    }
   ],
   "source": [
    "unclean_wildfire_df = pd.read_csv('NOAA_csvs/wildfires_2010_2019.csv')\n",
    "unclean_wildfire_df = pd.DataFrame(unclean_wildfire_df)\n",
    "# clean_wildfire_df['County Name'] = clean_wildfire_df['County Name'].astype(str).str.replace('(ZONE)',' ')\n",
    "# unclean_wildfire_df.head()\n",
    "unclean_wildfire_df[\"CZ_NAME_STR\"].value_counts()"
   ]
  },
  {
   "cell_type": "code",
   "execution_count": 39,
   "id": "alert-power",
   "metadata": {},
   "outputs": [
    {
     "data": {
      "text/plain": [
       "Index(['EVENT_ID', 'CZ_NAME_STR', 'BEGIN_LOCATION', 'BEGIN_DATE', 'BEGIN_TIME',\n",
       "       'EVENT_TYPE', 'MAGNITUDE', 'TOR_F_SCALE', 'DEATHS_DIRECT',\n",
       "       'INJURIES_DIRECT', 'DAMAGE_PROPERTY_NUM', 'DAMAGE_CROPS_NUM',\n",
       "       'STATE_ABBR', 'CZ_TIMEZONE', 'MAGNITUDE_TYPE', 'EPISODE_ID', 'CZ_TYPE',\n",
       "       'CZ_FIPS', 'WFO', 'INJURIES_INDIRECT', 'DEATHS_INDIRECT', 'SOURCE',\n",
       "       'FLOOD_CAUSE', 'TOR_LENGTH', 'TOR_WIDTH', 'BEGIN_RANGE',\n",
       "       'BEGIN_AZIMUTH', 'END_RANGE', 'END_AZIMUTH', 'END_LOCATION',\n",
       "       'BEGIN_LAT', 'BEGIN_LON', 'END_LAT', 'END_LON', 'EVENT_NARRATIVE',\n",
       "       'EPISODE_NARRATIVE', 'ABSOLUTE_ROWNUMBER'],\n",
       "      dtype='object')"
      ]
     },
     "execution_count": 39,
     "metadata": {},
     "output_type": "execute_result"
    }
   ],
   "source": [
    "unclean_wildfire_df.columns"
   ]
  },
  {
   "cell_type": "code",
   "execution_count": 40,
   "id": "psychological-result",
   "metadata": {},
   "outputs": [
    {
     "data": {
      "text/html": [
       "<div>\n",
       "<style scoped>\n",
       "    .dataframe tbody tr th:only-of-type {\n",
       "        vertical-align: middle;\n",
       "    }\n",
       "\n",
       "    .dataframe tbody tr th {\n",
       "        vertical-align: top;\n",
       "    }\n",
       "\n",
       "    .dataframe thead th {\n",
       "        text-align: right;\n",
       "    }\n",
       "</style>\n",
       "<table border=\"1\" class=\"dataframe\">\n",
       "  <thead>\n",
       "    <tr style=\"text-align: right;\">\n",
       "      <th></th>\n",
       "      <th>EVENT_ID</th>\n",
       "      <th>CZ_NAME_STR</th>\n",
       "      <th>BEGIN_DATE</th>\n",
       "      <th>EVENT_TYPE</th>\n",
       "      <th>DEATHS_DIRECT</th>\n",
       "      <th>DEATHS_INDIRECT</th>\n",
       "      <th>INJURIES_DIRECT</th>\n",
       "      <th>INJURIES_INDIRECT</th>\n",
       "      <th>DAMAGE_PROPERTY_NUM</th>\n",
       "      <th>DAMAGE_CROPS_NUM</th>\n",
       "      <th>CZ_FIPS</th>\n",
       "      <th>EVENT_NARRATIVE</th>\n",
       "      <th>EPISODE_NARRATIVE</th>\n",
       "    </tr>\n",
       "  </thead>\n",
       "  <tbody>\n",
       "    <tr>\n",
       "      <th>0</th>\n",
       "      <td>234746</td>\n",
       "      <td>SAN BERNARDINO AND RIVERSIDE COUNTY VALLEYS - ...</td>\n",
       "      <td>05/20/2010</td>\n",
       "      <td>Wildfire</td>\n",
       "      <td>0</td>\n",
       "      <td>0</td>\n",
       "      <td>0</td>\n",
       "      <td>1</td>\n",
       "      <td>0</td>\n",
       "      <td>0</td>\n",
       "      <td>48</td>\n",
       "      <td>NaN</td>\n",
       "      <td>The McKinley Fire began at approximately 1213 ...</td>\n",
       "    </tr>\n",
       "    <tr>\n",
       "      <th>1</th>\n",
       "      <td>250167</td>\n",
       "      <td>SAN DIEGO COUNTY COASTAL AREAS (ZONE)</td>\n",
       "      <td>07/13/2010</td>\n",
       "      <td>Wildfire</td>\n",
       "      <td>0</td>\n",
       "      <td>0</td>\n",
       "      <td>0</td>\n",
       "      <td>0</td>\n",
       "      <td>0</td>\n",
       "      <td>0</td>\n",
       "      <td>43</td>\n",
       "      <td>NaN</td>\n",
       "      <td>The Camp Pendleton Fire began at approximately...</td>\n",
       "    </tr>\n",
       "    <tr>\n",
       "      <th>2</th>\n",
       "      <td>250175</td>\n",
       "      <td>SAN BERNARDINO AND RIVERSIDE COUNTY VALLEYS - ...</td>\n",
       "      <td>07/15/2010</td>\n",
       "      <td>Wildfire</td>\n",
       "      <td>0</td>\n",
       "      <td>0</td>\n",
       "      <td>1</td>\n",
       "      <td>0</td>\n",
       "      <td>17500</td>\n",
       "      <td>0</td>\n",
       "      <td>48</td>\n",
       "      <td>NaN</td>\n",
       "      <td>The Stetson Fire began at approximately 1000 P...</td>\n",
       "    </tr>\n",
       "    <tr>\n",
       "      <th>3</th>\n",
       "      <td>250169</td>\n",
       "      <td>RIVERSIDE COUNTY MOUNTAINS (ZONE)</td>\n",
       "      <td>07/15/2010</td>\n",
       "      <td>Wildfire</td>\n",
       "      <td>0</td>\n",
       "      <td>0</td>\n",
       "      <td>0</td>\n",
       "      <td>0</td>\n",
       "      <td>0</td>\n",
       "      <td>0</td>\n",
       "      <td>56</td>\n",
       "      <td>NaN</td>\n",
       "      <td>The Cactus Fire began at approximately 1400 PS...</td>\n",
       "    </tr>\n",
       "    <tr>\n",
       "      <th>4</th>\n",
       "      <td>250171</td>\n",
       "      <td>SAN BERNARDINO AND RIVERSIDE COUNTY VALLEYS - ...</td>\n",
       "      <td>07/15/2010</td>\n",
       "      <td>Wildfire</td>\n",
       "      <td>0</td>\n",
       "      <td>0</td>\n",
       "      <td>0</td>\n",
       "      <td>0</td>\n",
       "      <td>0</td>\n",
       "      <td>0</td>\n",
       "      <td>48</td>\n",
       "      <td>NaN</td>\n",
       "      <td>The Skinner Fire began at approximately 1442 P...</td>\n",
       "    </tr>\n",
       "    <tr>\n",
       "      <th>...</th>\n",
       "      <td>...</td>\n",
       "      <td>...</td>\n",
       "      <td>...</td>\n",
       "      <td>...</td>\n",
       "      <td>...</td>\n",
       "      <td>...</td>\n",
       "      <td>...</td>\n",
       "      <td>...</td>\n",
       "      <td>...</td>\n",
       "      <td>...</td>\n",
       "      <td>...</td>\n",
       "      <td>...</td>\n",
       "      <td>...</td>\n",
       "    </tr>\n",
       "    <tr>\n",
       "      <th>393</th>\n",
       "      <td>863910</td>\n",
       "      <td>VENTURA COUNTY COASTAL VALLEYS (ZONE)</td>\n",
       "      <td>11/01/2019</td>\n",
       "      <td>Wildfire</td>\n",
       "      <td>0</td>\n",
       "      <td>0</td>\n",
       "      <td>0</td>\n",
       "      <td>0</td>\n",
       "      <td>0</td>\n",
       "      <td>0</td>\n",
       "      <td>45</td>\n",
       "      <td>The Easy Fire burned 1806 acres across the coa...</td>\n",
       "      <td>The Easy Fire started in late October across t...</td>\n",
       "    </tr>\n",
       "    <tr>\n",
       "      <th>394</th>\n",
       "      <td>863913</td>\n",
       "      <td>VENTURA COUNTY INTERIOR VALLEYS (ZONE)</td>\n",
       "      <td>11/01/2019</td>\n",
       "      <td>Wildfire</td>\n",
       "      <td>0</td>\n",
       "      <td>0</td>\n",
       "      <td>0</td>\n",
       "      <td>0</td>\n",
       "      <td>0</td>\n",
       "      <td>0</td>\n",
       "      <td>44</td>\n",
       "      <td>The Maria Fire started in late October across ...</td>\n",
       "      <td>The Maria Fire started in late October across ...</td>\n",
       "    </tr>\n",
       "    <tr>\n",
       "      <th>395</th>\n",
       "      <td>863914</td>\n",
       "      <td>VENTURA COUNTY COASTAL VALLEYS (ZONE)</td>\n",
       "      <td>11/01/2019</td>\n",
       "      <td>Wildfire</td>\n",
       "      <td>0</td>\n",
       "      <td>0</td>\n",
       "      <td>0</td>\n",
       "      <td>0</td>\n",
       "      <td>0</td>\n",
       "      <td>0</td>\n",
       "      <td>45</td>\n",
       "      <td>The Maria Fire started in late October across ...</td>\n",
       "      <td>The Maria Fire started in late October across ...</td>\n",
       "    </tr>\n",
       "    <tr>\n",
       "      <th>396</th>\n",
       "      <td>863915</td>\n",
       "      <td>VENTURA COUNTY COAST (ZONE)</td>\n",
       "      <td>11/01/2019</td>\n",
       "      <td>Wildfire</td>\n",
       "      <td>0</td>\n",
       "      <td>0</td>\n",
       "      <td>0</td>\n",
       "      <td>0</td>\n",
       "      <td>0</td>\n",
       "      <td>0</td>\n",
       "      <td>40</td>\n",
       "      <td>The Maria Fire started in late October across ...</td>\n",
       "      <td>The Maria Fire started in late October across ...</td>\n",
       "    </tr>\n",
       "    <tr>\n",
       "      <th>397</th>\n",
       "      <td>856590</td>\n",
       "      <td>NORTH BAY MOUNTAINS (ZONE)</td>\n",
       "      <td>11/01/2019</td>\n",
       "      <td>Wildfire</td>\n",
       "      <td>0</td>\n",
       "      <td>0</td>\n",
       "      <td>4</td>\n",
       "      <td>0</td>\n",
       "      <td>0</td>\n",
       "      <td>0</td>\n",
       "      <td>507</td>\n",
       "      <td>The Kincade Fire broke out on the night of Oct...</td>\n",
       "      <td>The Kincade Fire was sparked in the evening of...</td>\n",
       "    </tr>\n",
       "  </tbody>\n",
       "</table>\n",
       "<p>398 rows × 13 columns</p>\n",
       "</div>"
      ],
      "text/plain": [
       "     EVENT_ID                                        CZ_NAME_STR  BEGIN_DATE  \\\n",
       "0      234746  SAN BERNARDINO AND RIVERSIDE COUNTY VALLEYS - ...  05/20/2010   \n",
       "1      250167              SAN DIEGO COUNTY COASTAL AREAS (ZONE)  07/13/2010   \n",
       "2      250175  SAN BERNARDINO AND RIVERSIDE COUNTY VALLEYS - ...  07/15/2010   \n",
       "3      250169                  RIVERSIDE COUNTY MOUNTAINS (ZONE)  07/15/2010   \n",
       "4      250171  SAN BERNARDINO AND RIVERSIDE COUNTY VALLEYS - ...  07/15/2010   \n",
       "..        ...                                                ...         ...   \n",
       "393    863910              VENTURA COUNTY COASTAL VALLEYS (ZONE)  11/01/2019   \n",
       "394    863913             VENTURA COUNTY INTERIOR VALLEYS (ZONE)  11/01/2019   \n",
       "395    863914              VENTURA COUNTY COASTAL VALLEYS (ZONE)  11/01/2019   \n",
       "396    863915                        VENTURA COUNTY COAST (ZONE)  11/01/2019   \n",
       "397    856590                         NORTH BAY MOUNTAINS (ZONE)  11/01/2019   \n",
       "\n",
       "    EVENT_TYPE  DEATHS_DIRECT  DEATHS_INDIRECT  INJURIES_DIRECT  \\\n",
       "0     Wildfire              0                0                0   \n",
       "1     Wildfire              0                0                0   \n",
       "2     Wildfire              0                0                1   \n",
       "3     Wildfire              0                0                0   \n",
       "4     Wildfire              0                0                0   \n",
       "..         ...            ...              ...              ...   \n",
       "393   Wildfire              0                0                0   \n",
       "394   Wildfire              0                0                0   \n",
       "395   Wildfire              0                0                0   \n",
       "396   Wildfire              0                0                0   \n",
       "397   Wildfire              0                0                4   \n",
       "\n",
       "     INJURIES_INDIRECT  DAMAGE_PROPERTY_NUM  DAMAGE_CROPS_NUM  CZ_FIPS  \\\n",
       "0                    1                    0                 0       48   \n",
       "1                    0                    0                 0       43   \n",
       "2                    0                17500                 0       48   \n",
       "3                    0                    0                 0       56   \n",
       "4                    0                    0                 0       48   \n",
       "..                 ...                  ...               ...      ...   \n",
       "393                  0                    0                 0       45   \n",
       "394                  0                    0                 0       44   \n",
       "395                  0                    0                 0       45   \n",
       "396                  0                    0                 0       40   \n",
       "397                  0                    0                 0      507   \n",
       "\n",
       "                                       EVENT_NARRATIVE  \\\n",
       "0                                                  NaN   \n",
       "1                                                  NaN   \n",
       "2                                                  NaN   \n",
       "3                                                  NaN   \n",
       "4                                                  NaN   \n",
       "..                                                 ...   \n",
       "393  The Easy Fire burned 1806 acres across the coa...   \n",
       "394  The Maria Fire started in late October across ...   \n",
       "395  The Maria Fire started in late October across ...   \n",
       "396  The Maria Fire started in late October across ...   \n",
       "397  The Kincade Fire broke out on the night of Oct...   \n",
       "\n",
       "                                     EPISODE_NARRATIVE  \n",
       "0    The McKinley Fire began at approximately 1213 ...  \n",
       "1    The Camp Pendleton Fire began at approximately...  \n",
       "2    The Stetson Fire began at approximately 1000 P...  \n",
       "3    The Cactus Fire began at approximately 1400 PS...  \n",
       "4    The Skinner Fire began at approximately 1442 P...  \n",
       "..                                                 ...  \n",
       "393  The Easy Fire started in late October across t...  \n",
       "394  The Maria Fire started in late October across ...  \n",
       "395  The Maria Fire started in late October across ...  \n",
       "396  The Maria Fire started in late October across ...  \n",
       "397  The Kincade Fire was sparked in the evening of...  \n",
       "\n",
       "[398 rows x 13 columns]"
      ]
     },
     "execution_count": 40,
     "metadata": {},
     "output_type": "execute_result"
    }
   ],
   "source": [
    "reduced_wildfire_df = unclean_wildfire_df[['EVENT_ID', 'CZ_NAME_STR', 'BEGIN_DATE', 'EVENT_TYPE', 'DEATHS_DIRECT', 'DEATHS_INDIRECT', \n",
    "                                       'INJURIES_DIRECT', 'INJURIES_INDIRECT', 'DAMAGE_PROPERTY_NUM', 'DAMAGE_CROPS_NUM', 'CZ_FIPS',\n",
    "                                       'EVENT_NARRATIVE', 'EPISODE_NARRATIVE']]\n",
    "reduced_wildfire_df"
   ]
  },
  {
   "cell_type": "code",
   "execution_count": 41,
   "id": "reserved-ideal",
   "metadata": {},
   "outputs": [
    {
     "data": {
      "text/html": [
       "<div>\n",
       "<style scoped>\n",
       "    .dataframe tbody tr th:only-of-type {\n",
       "        vertical-align: middle;\n",
       "    }\n",
       "\n",
       "    .dataframe tbody tr th {\n",
       "        vertical-align: top;\n",
       "    }\n",
       "\n",
       "    .dataframe thead th {\n",
       "        text-align: right;\n",
       "    }\n",
       "</style>\n",
       "<table border=\"1\" class=\"dataframe\">\n",
       "  <thead>\n",
       "    <tr style=\"text-align: right;\">\n",
       "      <th></th>\n",
       "      <th>NOAA ID</th>\n",
       "      <th>County Name</th>\n",
       "      <th>Date</th>\n",
       "      <th>Type</th>\n",
       "      <th>Direct Deaths</th>\n",
       "      <th>Indirect Deaths</th>\n",
       "      <th>Direct Injuries</th>\n",
       "      <th>Indirect Injuries</th>\n",
       "      <th>Property Damage</th>\n",
       "      <th>Crop Damage</th>\n",
       "      <th>NOAA FIPS</th>\n",
       "      <th>Event Narrative</th>\n",
       "      <th>Episode Narrative</th>\n",
       "    </tr>\n",
       "  </thead>\n",
       "  <tbody>\n",
       "    <tr>\n",
       "      <th>0</th>\n",
       "      <td>234746</td>\n",
       "      <td>SAN BERNARDINO AND RIVERSIDE COUNTY VALLEYS - ...</td>\n",
       "      <td>05/20/2010</td>\n",
       "      <td>Wildfire</td>\n",
       "      <td>0</td>\n",
       "      <td>0</td>\n",
       "      <td>0</td>\n",
       "      <td>1</td>\n",
       "      <td>0</td>\n",
       "      <td>0</td>\n",
       "      <td>48</td>\n",
       "      <td>NaN</td>\n",
       "      <td>The McKinley Fire began at approximately 1213 ...</td>\n",
       "    </tr>\n",
       "    <tr>\n",
       "      <th>1</th>\n",
       "      <td>250167</td>\n",
       "      <td>SAN DIEGO COUNTY COASTAL AREAS (ZONE)</td>\n",
       "      <td>07/13/2010</td>\n",
       "      <td>Wildfire</td>\n",
       "      <td>0</td>\n",
       "      <td>0</td>\n",
       "      <td>0</td>\n",
       "      <td>0</td>\n",
       "      <td>0</td>\n",
       "      <td>0</td>\n",
       "      <td>43</td>\n",
       "      <td>NaN</td>\n",
       "      <td>The Camp Pendleton Fire began at approximately...</td>\n",
       "    </tr>\n",
       "    <tr>\n",
       "      <th>2</th>\n",
       "      <td>250175</td>\n",
       "      <td>SAN BERNARDINO AND RIVERSIDE COUNTY VALLEYS - ...</td>\n",
       "      <td>07/15/2010</td>\n",
       "      <td>Wildfire</td>\n",
       "      <td>0</td>\n",
       "      <td>0</td>\n",
       "      <td>1</td>\n",
       "      <td>0</td>\n",
       "      <td>17500</td>\n",
       "      <td>0</td>\n",
       "      <td>48</td>\n",
       "      <td>NaN</td>\n",
       "      <td>The Stetson Fire began at approximately 1000 P...</td>\n",
       "    </tr>\n",
       "    <tr>\n",
       "      <th>3</th>\n",
       "      <td>250169</td>\n",
       "      <td>RIVERSIDE COUNTY MOUNTAINS (ZONE)</td>\n",
       "      <td>07/15/2010</td>\n",
       "      <td>Wildfire</td>\n",
       "      <td>0</td>\n",
       "      <td>0</td>\n",
       "      <td>0</td>\n",
       "      <td>0</td>\n",
       "      <td>0</td>\n",
       "      <td>0</td>\n",
       "      <td>56</td>\n",
       "      <td>NaN</td>\n",
       "      <td>The Cactus Fire began at approximately 1400 PS...</td>\n",
       "    </tr>\n",
       "    <tr>\n",
       "      <th>4</th>\n",
       "      <td>250171</td>\n",
       "      <td>SAN BERNARDINO AND RIVERSIDE COUNTY VALLEYS - ...</td>\n",
       "      <td>07/15/2010</td>\n",
       "      <td>Wildfire</td>\n",
       "      <td>0</td>\n",
       "      <td>0</td>\n",
       "      <td>0</td>\n",
       "      <td>0</td>\n",
       "      <td>0</td>\n",
       "      <td>0</td>\n",
       "      <td>48</td>\n",
       "      <td>NaN</td>\n",
       "      <td>The Skinner Fire began at approximately 1442 P...</td>\n",
       "    </tr>\n",
       "    <tr>\n",
       "      <th>...</th>\n",
       "      <td>...</td>\n",
       "      <td>...</td>\n",
       "      <td>...</td>\n",
       "      <td>...</td>\n",
       "      <td>...</td>\n",
       "      <td>...</td>\n",
       "      <td>...</td>\n",
       "      <td>...</td>\n",
       "      <td>...</td>\n",
       "      <td>...</td>\n",
       "      <td>...</td>\n",
       "      <td>...</td>\n",
       "      <td>...</td>\n",
       "    </tr>\n",
       "    <tr>\n",
       "      <th>393</th>\n",
       "      <td>863910</td>\n",
       "      <td>VENTURA COUNTY COASTAL VALLEYS (ZONE)</td>\n",
       "      <td>11/01/2019</td>\n",
       "      <td>Wildfire</td>\n",
       "      <td>0</td>\n",
       "      <td>0</td>\n",
       "      <td>0</td>\n",
       "      <td>0</td>\n",
       "      <td>0</td>\n",
       "      <td>0</td>\n",
       "      <td>45</td>\n",
       "      <td>The Easy Fire burned 1806 acres across the coa...</td>\n",
       "      <td>The Easy Fire started in late October across t...</td>\n",
       "    </tr>\n",
       "    <tr>\n",
       "      <th>394</th>\n",
       "      <td>863913</td>\n",
       "      <td>VENTURA COUNTY INTERIOR VALLEYS (ZONE)</td>\n",
       "      <td>11/01/2019</td>\n",
       "      <td>Wildfire</td>\n",
       "      <td>0</td>\n",
       "      <td>0</td>\n",
       "      <td>0</td>\n",
       "      <td>0</td>\n",
       "      <td>0</td>\n",
       "      <td>0</td>\n",
       "      <td>44</td>\n",
       "      <td>The Maria Fire started in late October across ...</td>\n",
       "      <td>The Maria Fire started in late October across ...</td>\n",
       "    </tr>\n",
       "    <tr>\n",
       "      <th>395</th>\n",
       "      <td>863914</td>\n",
       "      <td>VENTURA COUNTY COASTAL VALLEYS (ZONE)</td>\n",
       "      <td>11/01/2019</td>\n",
       "      <td>Wildfire</td>\n",
       "      <td>0</td>\n",
       "      <td>0</td>\n",
       "      <td>0</td>\n",
       "      <td>0</td>\n",
       "      <td>0</td>\n",
       "      <td>0</td>\n",
       "      <td>45</td>\n",
       "      <td>The Maria Fire started in late October across ...</td>\n",
       "      <td>The Maria Fire started in late October across ...</td>\n",
       "    </tr>\n",
       "    <tr>\n",
       "      <th>396</th>\n",
       "      <td>863915</td>\n",
       "      <td>VENTURA COUNTY COAST (ZONE)</td>\n",
       "      <td>11/01/2019</td>\n",
       "      <td>Wildfire</td>\n",
       "      <td>0</td>\n",
       "      <td>0</td>\n",
       "      <td>0</td>\n",
       "      <td>0</td>\n",
       "      <td>0</td>\n",
       "      <td>0</td>\n",
       "      <td>40</td>\n",
       "      <td>The Maria Fire started in late October across ...</td>\n",
       "      <td>The Maria Fire started in late October across ...</td>\n",
       "    </tr>\n",
       "    <tr>\n",
       "      <th>397</th>\n",
       "      <td>856590</td>\n",
       "      <td>NORTH BAY MOUNTAINS (ZONE)</td>\n",
       "      <td>11/01/2019</td>\n",
       "      <td>Wildfire</td>\n",
       "      <td>0</td>\n",
       "      <td>0</td>\n",
       "      <td>4</td>\n",
       "      <td>0</td>\n",
       "      <td>0</td>\n",
       "      <td>0</td>\n",
       "      <td>507</td>\n",
       "      <td>The Kincade Fire broke out on the night of Oct...</td>\n",
       "      <td>The Kincade Fire was sparked in the evening of...</td>\n",
       "    </tr>\n",
       "  </tbody>\n",
       "</table>\n",
       "<p>398 rows × 13 columns</p>\n",
       "</div>"
      ],
      "text/plain": [
       "     NOAA ID                                        County Name        Date  \\\n",
       "0     234746  SAN BERNARDINO AND RIVERSIDE COUNTY VALLEYS - ...  05/20/2010   \n",
       "1     250167              SAN DIEGO COUNTY COASTAL AREAS (ZONE)  07/13/2010   \n",
       "2     250175  SAN BERNARDINO AND RIVERSIDE COUNTY VALLEYS - ...  07/15/2010   \n",
       "3     250169                  RIVERSIDE COUNTY MOUNTAINS (ZONE)  07/15/2010   \n",
       "4     250171  SAN BERNARDINO AND RIVERSIDE COUNTY VALLEYS - ...  07/15/2010   \n",
       "..       ...                                                ...         ...   \n",
       "393   863910              VENTURA COUNTY COASTAL VALLEYS (ZONE)  11/01/2019   \n",
       "394   863913             VENTURA COUNTY INTERIOR VALLEYS (ZONE)  11/01/2019   \n",
       "395   863914              VENTURA COUNTY COASTAL VALLEYS (ZONE)  11/01/2019   \n",
       "396   863915                        VENTURA COUNTY COAST (ZONE)  11/01/2019   \n",
       "397   856590                         NORTH BAY MOUNTAINS (ZONE)  11/01/2019   \n",
       "\n",
       "         Type  Direct Deaths  Indirect Deaths  Direct Injuries  \\\n",
       "0    Wildfire              0                0                0   \n",
       "1    Wildfire              0                0                0   \n",
       "2    Wildfire              0                0                1   \n",
       "3    Wildfire              0                0                0   \n",
       "4    Wildfire              0                0                0   \n",
       "..        ...            ...              ...              ...   \n",
       "393  Wildfire              0                0                0   \n",
       "394  Wildfire              0                0                0   \n",
       "395  Wildfire              0                0                0   \n",
       "396  Wildfire              0                0                0   \n",
       "397  Wildfire              0                0                4   \n",
       "\n",
       "     Indirect Injuries  Property Damage  Crop Damage  NOAA FIPS  \\\n",
       "0                    1                0            0         48   \n",
       "1                    0                0            0         43   \n",
       "2                    0            17500            0         48   \n",
       "3                    0                0            0         56   \n",
       "4                    0                0            0         48   \n",
       "..                 ...              ...          ...        ...   \n",
       "393                  0                0            0         45   \n",
       "394                  0                0            0         44   \n",
       "395                  0                0            0         45   \n",
       "396                  0                0            0         40   \n",
       "397                  0                0            0        507   \n",
       "\n",
       "                                       Event Narrative  \\\n",
       "0                                                  NaN   \n",
       "1                                                  NaN   \n",
       "2                                                  NaN   \n",
       "3                                                  NaN   \n",
       "4                                                  NaN   \n",
       "..                                                 ...   \n",
       "393  The Easy Fire burned 1806 acres across the coa...   \n",
       "394  The Maria Fire started in late October across ...   \n",
       "395  The Maria Fire started in late October across ...   \n",
       "396  The Maria Fire started in late October across ...   \n",
       "397  The Kincade Fire broke out on the night of Oct...   \n",
       "\n",
       "                                     Episode Narrative  \n",
       "0    The McKinley Fire began at approximately 1213 ...  \n",
       "1    The Camp Pendleton Fire began at approximately...  \n",
       "2    The Stetson Fire began at approximately 1000 P...  \n",
       "3    The Cactus Fire began at approximately 1400 PS...  \n",
       "4    The Skinner Fire began at approximately 1442 P...  \n",
       "..                                                 ...  \n",
       "393  The Easy Fire started in late October across t...  \n",
       "394  The Maria Fire started in late October across ...  \n",
       "395  The Maria Fire started in late October across ...  \n",
       "396  The Maria Fire started in late October across ...  \n",
       "397  The Kincade Fire was sparked in the evening of...  \n",
       "\n",
       "[398 rows x 13 columns]"
      ]
     },
     "execution_count": 41,
     "metadata": {},
     "output_type": "execute_result"
    }
   ],
   "source": [
    "clean_wildfire_df = reduced_wildfire_df.rename(columns={'EVENT_ID': 'NOAA ID', \n",
    "                                              'CZ_NAME_STR': 'County Name', \n",
    "                                              'BEGIN_DATE': 'Date', \n",
    "                                              'EVENT_TYPE': 'Type', \n",
    "                                              'DEATHS_DIRECT': 'Direct Deaths', \n",
    "                                              'DEATHS_INDIRECT': 'Indirect Deaths', \n",
    "                                              'INJURIES_DIRECT': 'Direct Injuries', \n",
    "                                              'INJURIES_INDIRECT': 'Indirect Injuries', \n",
    "                                              'DAMAGE_PROPERTY_NUM': 'Property Damage', \n",
    "                                              'DAMAGE_CROPS_NUM': 'Crop Damage', \n",
    "                                              'CZ_FIPS': 'NOAA FIPS',\n",
    "                                              'EVENT_NARRATIVE': 'Event Narrative', \n",
    "                                              'EPISODE_NARRATIVE': 'Episode Narrative' })\n",
    "clean_wildfire_df"
   ]
  },
  {
   "cell_type": "code",
   "execution_count": 42,
   "id": "alleged-science",
   "metadata": {},
   "outputs": [
    {
     "data": {
      "text/plain": [
       "WESTERN SISKIYOU COUNTY (ZONE)                                            32\n",
       "SAN BERNARDINO AND RIVERSIDE COUNTY VALLEYS - THE INLAND EMPIRE (ZONE)    30\n",
       "S SIERRA MTNS (ZONE)                                                      25\n",
       "KERN CTY MTNS (ZONE)                                                      24\n",
       "S SIERRA FOOTHILLS (ZONE)                                                 22\n",
       "                                                                          ..\n",
       "ORANGE COUNTY INLAND (ZONE)                                                1\n",
       "SOUTHEASTERN MENDOCINO INTERIOR (ZONE)                                     1\n",
       "SAN FRANCISCO PENINSULA COAST (ZONE)                                       1\n",
       "LOS ANGELES COUNTY SAN GABRIEL VALLEY (ZONE)                               1\n",
       "LOS ANGELES COUNTY COASTS INCLUDING DOWNTOWN LOS ANGELES (ZONE)            1\n",
       "Name: County Name, Length: 74, dtype: int64"
      ]
     },
     "execution_count": 42,
     "metadata": {},
     "output_type": "execute_result"
    }
   ],
   "source": [
    "clean_wildfire_df['County Name'].value_counts()"
   ]
  },
  {
   "cell_type": "code",
   "execution_count": 45,
   "id": "certified-dancing",
   "metadata": {},
   "outputs": [
    {
     "data": {
      "text/plain": [
       "NOAA ID               int64\n",
       "County Name          object\n",
       "Date                 object\n",
       "Type                 object\n",
       "Direct Deaths         int64\n",
       "Indirect Deaths       int64\n",
       "Direct Injuries       int64\n",
       "Indirect Injuries     int64\n",
       "Property Damage       int64\n",
       "Crop Damage           int64\n",
       "NOAA FIPS             int64\n",
       "Event Narrative      object\n",
       "Episode Narrative    object\n",
       "dtype: object"
      ]
     },
     "execution_count": 45,
     "metadata": {},
     "output_type": "execute_result"
    }
   ],
   "source": [
    "clean_wildfire_df.dtypes"
   ]
  },
  {
   "cell_type": "code",
   "execution_count": 63,
   "id": "functioning-thompson",
   "metadata": {},
   "outputs": [
    {
     "data": {
      "text/plain": [
       "WESTERN SISKIYOU COUNTY ( )                                            32\n",
       "SAN BERNARDINO AND RIVERSIDE COUNTY VALLEYS - THE INLAND EMPIRE ( )    30\n",
       "S SIERRA MTNS ( )                                                      25\n",
       "KERN CTY MTNS ( )                                                      24\n",
       "S SIERRA FOOTHILLS ( )                                                 22\n",
       "                                                                       ..\n",
       "WEST CENTRAL SAN JOAQUIN VALLEY ( )                                     1\n",
       "SAN FRANCISCO PENINSULA COAST ( )                                       1\n",
       "ORANGE COUNTY INLAND ( )                                                1\n",
       "SAN LUIS OBISPO COUNTY CENTRAL COAST ( )                                1\n",
       "COASTAL NORTH BAY INCLUDING POINT REYES NATIONAL SEASHORE ( )           1\n",
       "Name: County Name, Length: 74, dtype: int64"
      ]
     },
     "execution_count": 63,
     "metadata": {},
     "output_type": "execute_result"
    }
   ],
   "source": [
    "clean_wildfire_df['County Name'] = clean_wildfire_df['County Name'].astype(str).str.replace('(ZONE)',' ')\n",
    "clean_wildfire_df = clean_wildfire_df.replace(to_replace=\"()\", value=None)\n",
    "# clean_wildfire_df.head(4)\n",
    "clean_wildfire_df['County Name'].value_counts()\n"
   ]
  },
  {
   "cell_type": "code",
   "execution_count": 7,
   "id": "mexican-wildlife",
   "metadata": {},
   "outputs": [
    {
     "data": {
      "text/plain": [
       "0     372\n",
       "1      10\n",
       "2       7\n",
       "3       5\n",
       "4       2\n",
       "86      1\n",
       "8       1\n",
       "Name: Direct Deaths, dtype: int64"
      ]
     },
     "execution_count": 7,
     "metadata": {},
     "output_type": "execute_result"
    }
   ],
   "source": [
    "clean_wildfire_df[\"Direct Deaths\"].value_counts()"
   ]
  },
  {
   "cell_type": "code",
   "execution_count": 8,
   "id": "relative-twist",
   "metadata": {},
   "outputs": [
    {
     "data": {
      "text/plain": [
       "0    391\n",
       "1      6\n",
       "2      1\n",
       "Name: Indirect Deaths, dtype: int64"
      ]
     },
     "execution_count": 8,
     "metadata": {},
     "output_type": "execute_result"
    }
   ],
   "source": [
    "clean_wildfire_df[\"Indirect Deaths\"].value_counts()"
   ]
  },
  {
   "cell_type": "code",
   "execution_count": 9,
   "id": "beneficial-ideal",
   "metadata": {},
   "outputs": [
    {
     "data": {
      "text/plain": [
       "0     341\n",
       "1      13\n",
       "2       8\n",
       "4       7\n",
       "3       7\n",
       "5       5\n",
       "6       4\n",
       "8       3\n",
       "19      2\n",
       "12      2\n",
       "9       2\n",
       "21      1\n",
       "18      1\n",
       "10      1\n",
       "7       1\n",
       "Name: Direct Injuries, dtype: int64"
      ]
     },
     "execution_count": 9,
     "metadata": {},
     "output_type": "execute_result"
    }
   ],
   "source": [
    "clean_wildfire_df[\"Direct Injuries\"].value_counts()"
   ]
  },
  {
   "cell_type": "code",
   "execution_count": 10,
   "id": "blind-vacation",
   "metadata": {},
   "outputs": [
    {
     "data": {
      "text/plain": [
       "0     370\n",
       "3       8\n",
       "1       7\n",
       "4       4\n",
       "2       3\n",
       "12      2\n",
       "10      1\n",
       "9       1\n",
       "6       1\n",
       "5       1\n",
       "Name: Indirect Injuries, dtype: int64"
      ]
     },
     "execution_count": 10,
     "metadata": {},
     "output_type": "execute_result"
    }
   ],
   "source": [
    "clean_wildfire_df[\"Indirect Injuries\"].value_counts()"
   ]
  },
  {
   "cell_type": "code",
   "execution_count": 11,
   "id": "alive-sister",
   "metadata": {},
   "outputs": [
    {
     "data": {
      "text/plain": [
       "0              320\n",
       "500000           7\n",
       "100000           6\n",
       "1000000          5\n",
       "5000             5\n",
       "200000           4\n",
       "400000           4\n",
       "600000           3\n",
       "50000            3\n",
       "4000000          2\n",
       "25000            2\n",
       "6000             2\n",
       "2000000          2\n",
       "900000           2\n",
       "22500000         1\n",
       "250000           1\n",
       "15000            1\n",
       "50000000         1\n",
       "7240000          1\n",
       "550000           1\n",
       "35000            1\n",
       "17500            1\n",
       "8000000          1\n",
       "4500000          1\n",
       "38400000         1\n",
       "20000000         1\n",
       "15000000         1\n",
       "1500000000       1\n",
       "20000            1\n",
       "1000             1\n",
       "5700000          1\n",
       "56000000         1\n",
       "7000000          1\n",
       "4000             1\n",
       "30000000         1\n",
       "1500000          1\n",
       "2500000          1\n",
       "10000000         1\n",
       "17000000000      1\n",
       "25000000         1\n",
       "8000             1\n",
       "30000            1\n",
       "3670000          1\n",
       "1120000          1\n",
       "10000            1\n",
       "Name: Property Damage, dtype: int64"
      ]
     },
     "execution_count": 11,
     "metadata": {},
     "output_type": "execute_result"
    }
   ],
   "source": [
    "clean_wildfire_df[\"Property Damage\"].value_counts()"
   ]
  },
  {
   "cell_type": "code",
   "execution_count": 12,
   "id": "photographic-expert",
   "metadata": {},
   "outputs": [
    {
     "data": {
      "text/plain": [
       "0       397\n",
       "5000      1\n",
       "Name: Crop Damage, dtype: int64"
      ]
     },
     "execution_count": 12,
     "metadata": {},
     "output_type": "execute_result"
    }
   ],
   "source": [
    "clean_wildfire_df[\"Crop Damage\"].value_counts()"
   ]
  },
  {
   "cell_type": "code",
   "execution_count": 13,
   "id": "parental-friendly",
   "metadata": {},
   "outputs": [
    {
     "data": {
      "text/plain": [
       "80     32\n",
       "48     30\n",
       "96     30\n",
       "95     24\n",
       "93     24\n",
       "       ..\n",
       "41      1\n",
       "554     1\n",
       "83      1\n",
       "72      1\n",
       "35      1\n",
       "Name: NOAA FIPS, Length: 70, dtype: int64"
      ]
     },
     "execution_count": 13,
     "metadata": {},
     "output_type": "execute_result"
    }
   ],
   "source": [
    "clean_wildfire_df[\"NOAA FIPS\"].value_counts()"
   ]
  },
  {
   "cell_type": "code",
   "execution_count": 15,
   "id": "american-vector",
   "metadata": {},
   "outputs": [
    {
     "data": {
      "image/png": "[encoded data removed]",
      "text/plain": [
       "<Figure size 432x288 with 1 Axes>"
      ]
     },
     "metadata": {
      "needs_background": "light"
     },
     "output_type": "display_data"
    }
   ],
   "source": [
    "plt.scatter(clean_wildfire_df.iloc[:,1],clean_wildfire_df.iloc[:,2])\n",
    "plt.xlabel('County')\n",
    "plt.ylabel('Date')\n",
    "plt.show()"
   ]
  },
  {
   "cell_type": "code",
   "execution_count": 16,
   "id": "rolled-monkey",
   "metadata": {},
   "outputs": [
    {
     "data": {
      "image/png": "[encoded data removed]",
      "text/plain": [
       "<Figure size 432x288 with 1 Axes>"
      ]
     },
     "metadata": {
      "needs_background": "light"
     },
     "output_type": "display_data"
    }
   ],
   "source": [
    "plt.scatter(clean_wildfire_df.iloc[:,1],clean_wildfire_df.iloc[:,4])\n",
    "plt.xlabel('County')\n",
    "plt.ylabel('Direct Deaths')\n",
    "plt.show()"
   ]
  },
  {
   "cell_type": "code",
   "execution_count": 17,
   "id": "standard-drink",
   "metadata": {},
   "outputs": [
    {
     "data": {
      "image/png": "[encoded data removed]",
      "text/plain": [
       "<Figure size 432x288 with 1 Axes>"
      ]
     },
     "metadata": {
      "needs_background": "light"
     },
     "output_type": "display_data"
    }
   ],
   "source": [
    "plt.scatter(clean_wildfire_df.iloc[:,1],clean_wildfire_df.iloc[:,5])\n",
    "plt.xlabel('County')\n",
    "plt.ylabel('Indirect Deaths')\n",
    "plt.show()"
   ]
  },
  {
   "cell_type": "code",
   "execution_count": 18,
   "id": "tender-danger",
   "metadata": {},
   "outputs": [
    {
     "data": {
      "image/png": "[encoded data removed]",
      "text/plain": [
       "<Figure size 432x288 with 1 Axes>"
      ]
     },
     "metadata": {
      "needs_background": "light"
     },
     "output_type": "display_data"
    }
   ],
   "source": [
    "plt.scatter(clean_wildfire_df.iloc[:,1],clean_wildfire_df.iloc[:,7])\n",
    "plt.xlabel('County')\n",
    "plt.ylabel('Indirect Injuries')\n",
    "plt.show()"
   ]
  },
  {
   "cell_type": "code",
   "execution_count": 19,
   "id": "dirty-kentucky",
   "metadata": {},
   "outputs": [
    {
     "data": {
      "image/png": "[encoded data removed]",
      "text/plain": [
       "<Figure size 432x288 with 1 Axes>"
      ]
     },
     "metadata": {
      "needs_background": "light"
     },
     "output_type": "display_data"
    }
   ],
   "source": [
    "plt.scatter(clean_wildfire_df.iloc[:,1],clean_wildfire_df.iloc[:,8])\n",
    "plt.xlabel('County')\n",
    "plt.ylabel('Property Damage')\n",
    "plt.show()"
   ]
  },
  {
   "cell_type": "code",
   "execution_count": 20,
   "id": "filled-bracelet",
   "metadata": {},
   "outputs": [
    {
     "data": {
      "image/png": "[encoded data removed]",
      "text/plain": [
       "<Figure size 432x288 with 1 Axes>"
      ]
     },
     "metadata": {
      "needs_background": "light"
     },
     "output_type": "display_data"
    }
   ],
   "source": [
    "plt.scatter(clean_wildfire_df.iloc[:,1],clean_wildfire_df.iloc[:,9])\n",
    "plt.xlabel('County')\n",
    "plt.ylabel('Crop Damage')\n",
    "plt.show()"
   ]
  },
  {
   "cell_type": "code",
   "execution_count": 23,
   "id": "military-richardson",
   "metadata": {},
   "outputs": [
    {
     "data": {
      "text/plain": [
       "NOAA ID               int64\n",
       "County Name          object\n",
       "Date                 object\n",
       "Type                 object\n",
       "Direct Deaths         int64\n",
       "Indirect Deaths       int64\n",
       "Direct Injuries       int64\n",
       "Indirect Injuries     int64\n",
       "Property Damage       int64\n",
       "Crop Damage           int64\n",
       "NOAA FIPS             int64\n",
       "Event Narrative      object\n",
       "Episode Narrative    object\n",
       "dtype: object"
      ]
     },
     "execution_count": 23,
     "metadata": {},
     "output_type": "execute_result"
    }
   ],
   "source": [
    "clean_wildfire_df.dtypes"
   ]
  },
  {
   "cell_type": "code",
   "execution_count": null,
   "id": "general-liberal",
   "metadata": {},
   "outputs": [],
   "source": [
    "clean_wildfire_df['County Name'] = clean_wildfire_df['County Name'].astype(str)\n",
    "clean_wildfire_df"
   ]
  },
  {
   "cell_type": "code",
   "execution_count": null,
   "id": "enormous-egyptian",
   "metadata": {},
   "outputs": [],
   "source": []
  }
 ],
 "metadata": {
  "kernelspec": {
   "display_name": "Python 3",
   "language": "python",
   "name": "python3"
  },
  "language_info": {
   "codemirror_mode": {
    "name": "ipython",
    "version": 3
   },
   "file_extension": ".py",
   "mimetype": "text/x-python",
   "name": "python",
   "nbconvert_exporter": "python",
   "pygments_lexer": "ipython3",
   "version": "3.6.10"
  }
 },
 "nbformat": 4,
 "nbformat_minor": 5
}
