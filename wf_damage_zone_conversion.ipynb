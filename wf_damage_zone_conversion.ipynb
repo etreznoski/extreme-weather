{
 "cells": [
  {
   "cell_type": "code",
   "execution_count": 10,
   "id": "stuffed-german",
   "metadata": {},
   "outputs": [],
   "source": [
    "# Dependencies\n",
    "import pandas as pd\n",
    "\n",
    "pd.set_option(\"display.max_rows\", None, \"display.max_columns\", None)"
   ]
  },
  {
   "cell_type": "code",
   "execution_count": 11,
   "id": "mounted-breathing",
   "metadata": {},
   "outputs": [],
   "source": [
    "shared_info = pd.read_csv(\"NOAA_csvs/possible_zone_conversions.csv\").drop(columns=['State','drop1',\n",
    "    'drop2','drop3','drop4'])\n",
    "noaa_wildfires = pd.read_csv(\"NOAA_csvs/wildfires_2010_2019.csv\").drop(columns=['BEGIN_LOCATION', 'BEGIN_TIME',\n",
    "                            'MAGNITUDE', 'TOR_F_SCALE','STATE_ABBR', 'CZ_TIMEZONE', 'MAGNITUDE_TYPE', 'EPISODE_ID', 'CZ_TYPE',\n",
    "                            'WFO', 'SOURCE', 'FLOOD_CAUSE', 'TOR_LENGTH', 'TOR_WIDTH', 'BEGIN_RANGE', 'BEGIN_AZIMUTH', \n",
    "                            'END_RANGE', 'END_AZIMUTH', 'END_LOCATION', 'BEGIN_LAT', 'BEGIN_LON', 'END_LAT', 'END_LON', \n",
    "                            'EVENT_NARRATIVE', 'EPISODE_NARRATIVE', 'ABSOLUTE_ROWNUMBER'])\n",
    "\n",
    "# Renames NOAA data columns.\n",
    "noaa_wildfires.rename(columns={'EVENT_ID': 'NOAA ID', \n",
    "                                'CZ_NAME_STR': 'County Name', \n",
    "                                'BEGIN_DATE': 'Date', \n",
    "                                'EVENT_TYPE': 'Type', \n",
    "                                'DEATHS_DIRECT': 'Direct Deaths', \n",
    "                                'DEATHS_INDIRECT': 'Indirect Deaths', \n",
    "                                'INJURIES_DIRECT': 'Direct Injuries', \n",
    "                                'INJURIES_INDIRECT': 'Indirect Injuries', \n",
    "                                'DAMAGE_PROPERTY_NUM': 'Property Damage', \n",
    "                                'DAMAGE_CROPS_NUM': 'Crop Damage', \n",
    "                                'CZ_FIPS': 'NOAA_FIP'}, inplace=True)\n",
    "\n",
    "# Makes sure Conversion FIPS are three digits.\n",
    "new_fips = [str((fip - 6000)).zfill(3) for fip in shared_info['FIP']]\n",
    "shared_info['FIP'] = new_fips\n",
    "new_fips = [str((fip)).zfill(3) for fip in shared_info['NOAA_FIP']]\n",
    "shared_info['NOAA_FIP'] = new_fips\n",
    "shared_info['NOAA_FIP'].astype(int)\n",
    "\n",
    "# Makes sure NOAA FIPS are three digits.\n",
    "new_noaa_fips = [str((fip)).zfill(3) for fip in noaa_wildfires['NOAA_FIP']]\n",
    "noaa_wildfires['NOAA_FIP'] = new_noaa_fips\n",
    "noaa_wildfires['NOAA_FIP'].astype(int)\n",
    "\n",
    "# Shared DataFrame\n",
    "combo = pd.merge(shared_info, noaa_wildfires, how='outer',on='NOAA_FIP')"
   ]
  },
  {
   "cell_type": "code",
   "execution_count": 12,
   "id": "adaptive-mixer",
   "metadata": {},
   "outputs": [],
   "source": [
    "combo.to_csv(\"NOAA_csvs/wf_combined_zone_county.csv\", encoding=\"utf-8\", index=False)"
   ]
  },
  {
   "cell_type": "code",
   "execution_count": null,
   "id": "charged-arrival",
   "metadata": {},
   "outputs": [],
   "source": []
  }
 ],
 "metadata": {
  "kernelspec": {
   "display_name": "Python 3",
   "language": "python",
   "name": "python3"
  },
  "language_info": {
   "codemirror_mode": {
    "name": "ipython",
    "version": 3
   },
   "file_extension": ".py",
   "mimetype": "text/x-python",
   "name": "python",
   "nbconvert_exporter": "python",
   "pygments_lexer": "ipython3",
   "version": "3.6.10"
  }
 },
 "nbformat": 4,
 "nbformat_minor": 5
}
