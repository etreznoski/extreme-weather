{
 "cells": [
  {
   "cell_type": "code",
   "execution_count": 1,
   "id": "strong-classification",
   "metadata": {},
   "outputs": [],
   "source": [
    "# Dependencies\n",
    "import numpy as np\n",
    "import pandas as pd\n",
    "import matplotlib.pyplot as plt\n",
    "import requests\n",
    "from census import Census\n",
    "from us import states\n",
    "\n",
    "# Census API Key\n",
    "from config import api_key\n",
    "years = [2010,2011,2012,2013,2014,2015,2016,2017,2018,2019]"
   ]
  },
  {
   "cell_type": "code",
   "execution_count": 4,
   "id": "aging-killing",
   "metadata": {},
   "outputs": [],
   "source": [
    "for year in years:\n",
    "    c = Census(api_key, year=year)\n",
    "    variables = ('B01003_001E', 'B17001_002E')\n",
    "    request = c.acs5.state_county(variables, '06', Census.ALL)\n",
    "\n",
    "    # census_data = c.sf1.state_county_tract('NAME', '06', Census.ALL)\n",
    "\n",
    "    census_df = pd.DataFrame(request)\n",
    "\n",
    "    census_df = census_df.rename(columns={\"B01003_001E\": \"Population\",\n",
    "                                      \"B17001_002E\": \"Poverty Count\",\n",
    "                                      \"NAME\": \"Name\", \"county\": \"County\"})\n",
    "\n",
    "    # Add in Poverty Rate (Poverty Count / Population)\n",
    "    census_df[\"Poverty Rate\"] = 100 * \\\n",
    "        census_df[\"Poverty Count\"].astype(int) / census_df[\"Population\"].astype(int)\n",
    "\n",
    "    # Final DataFrame\n",
    "    census_df = census_df[[\"Population\", \"Poverty Count\", \"Poverty Rate\", \"County\"]]\n",
    "    census_df.sort_values(\"County\", inplace=True)\n",
    "    census_df.to_csv(f\"Census_csvs/{year}_census_data_ca_county.csv\", encoding=\"utf-8\", index=False)"
   ]
  },
  {
   "cell_type": "code",
   "execution_count": null,
   "id": "scenic-trout",
   "metadata": {},
   "outputs": [],
   "source": []
  }
 ],
 "metadata": {
  "kernelspec": {
   "display_name": "PythonData",
   "language": "python",
   "name": "pythondata"
  },
  "language_info": {
   "codemirror_mode": {
    "name": "ipython",
    "version": 3
   },
   "file_extension": ".py",
   "mimetype": "text/x-python",
   "name": "python",
   "nbconvert_exporter": "python",
   "pygments_lexer": "ipython3",
   "version": "3.6.10"
  }
 },
 "nbformat": 4,
 "nbformat_minor": 5
}
