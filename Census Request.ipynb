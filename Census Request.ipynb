{
 "cells": [
  {
   "cell_type": "code",
   "execution_count": 1,
   "id": "proved-rwanda",
   "metadata": {},
   "outputs": [],
   "source": [
    "# Dependencies\n",
    "import numpy as np\n",
    "import pandas as pd\n",
    "import matplotlib.pyplot as plt\n",
    "import requests\n",
    "from census import Census\n",
    "from us import states\n",
    "\n",
    "# Census API Key\n",
    "from config import api_key\n",
    "c = Census(api_key, year=2010)\n",
    "variables = ('B01003_001E', 'B17001_002E')\n",
    "request = c.acs5.state_county(variables, '06', Census.ALL)"
   ]
  },
  {
   "cell_type": "code",
   "execution_count": 2,
   "id": "arabic-painting",
   "metadata": {},
   "outputs": [
    {
     "data": {
      "text/html": [
       "<div>\n",
       "<style scoped>\n",
       "    .dataframe tbody tr th:only-of-type {\n",
       "        vertical-align: middle;\n",
       "    }\n",
       "\n",
       "    .dataframe tbody tr th {\n",
       "        vertical-align: top;\n",
       "    }\n",
       "\n",
       "    .dataframe thead th {\n",
       "        text-align: right;\n",
       "    }\n",
       "</style>\n",
       "<table border=\"1\" class=\"dataframe\">\n",
       "  <thead>\n",
       "    <tr style=\"text-align: right;\">\n",
       "      <th></th>\n",
       "      <th>Population</th>\n",
       "      <th>Poverty Count</th>\n",
       "      <th>Poverty Rate</th>\n",
       "      <th>County</th>\n",
       "    </tr>\n",
       "  </thead>\n",
       "  <tbody>\n",
       "    <tr>\n",
       "      <th>0</th>\n",
       "      <td>250699.0</td>\n",
       "      <td>53738.0</td>\n",
       "      <td>21.435267</td>\n",
       "      <td>047</td>\n",
       "    </tr>\n",
       "    <tr>\n",
       "      <th>1</th>\n",
       "      <td>9605.0</td>\n",
       "      <td>1709.0</td>\n",
       "      <td>17.792816</td>\n",
       "      <td>049</td>\n",
       "    </tr>\n",
       "    <tr>\n",
       "      <th>2</th>\n",
       "      <td>13905.0</td>\n",
       "      <td>1664.0</td>\n",
       "      <td>11.966918</td>\n",
       "      <td>051</td>\n",
       "    </tr>\n",
       "    <tr>\n",
       "      <th>3</th>\n",
       "      <td>407435.0</td>\n",
       "      <td>54276.0</td>\n",
       "      <td>13.321389</td>\n",
       "      <td>053</td>\n",
       "    </tr>\n",
       "    <tr>\n",
       "      <th>4</th>\n",
       "      <td>134051.0</td>\n",
       "      <td>12948.0</td>\n",
       "      <td>9.659010</td>\n",
       "      <td>055</td>\n",
       "    </tr>\n",
       "  </tbody>\n",
       "</table>\n",
       "</div>"
      ],
      "text/plain": [
       "   Population  Poverty Count  Poverty Rate County\n",
       "0    250699.0        53738.0     21.435267    047\n",
       "1      9605.0         1709.0     17.792816    049\n",
       "2     13905.0         1664.0     11.966918    051\n",
       "3    407435.0        54276.0     13.321389    053\n",
       "4    134051.0        12948.0      9.659010    055"
      ]
     },
     "execution_count": 2,
     "metadata": {},
     "output_type": "execute_result"
    }
   ],
   "source": [
    "# census_data = c.sf1.state_county_tract('NAME', '06', Census.ALL)\n",
    "\n",
    "census_df = pd.DataFrame(request)\n",
    "\n",
    "census_df = census_df.rename(columns={\"B01003_001E\": \"Population\",\n",
    "                                      \"B17001_002E\": \"Poverty Count\",\n",
    "                                      \"NAME\": \"Name\", \"county\": \"County\"})\n",
    "\n",
    "# Add in Poverty Rate (Poverty Count / Population)\n",
    "census_df[\"Poverty Rate\"] = 100 * \\\n",
    "    census_df[\"Poverty Count\"].astype(\n",
    "        int) / census_df[\"Population\"].astype(int)\n",
    "\n",
    "# Final DataFrame\n",
    "census_df = census_df[[\"Population\", \"Poverty Count\", \"Poverty Rate\", \"County\"]]\n",
    "\n",
    "census_df.head()"
   ]
  },
  {
   "cell_type": "code",
   "execution_count": 3,
   "id": "aging-killing",
   "metadata": {},
   "outputs": [],
   "source": [
    "census_df.to_csv(\"census_data_ca_county.csv\", encoding=\"utf-8\", index=False)"
   ]
  },
  {
   "cell_type": "code",
   "execution_count": null,
   "id": "scenic-trout",
   "metadata": {},
   "outputs": [],
   "source": []
  }
 ],
 "metadata": {
  "kernelspec": {
   "display_name": "PythonData",
   "language": "python",
   "name": "pythondata"
  },
  "language_info": {
   "codemirror_mode": {
    "name": "ipython",
    "version": 3
   },
   "file_extension": ".py",
   "mimetype": "text/x-python",
   "name": "python",
   "nbconvert_exporter": "python",
   "pygments_lexer": "ipython3",
   "version": "3.6.10"
  }
 },
 "nbformat": 4,
 "nbformat_minor": 5
}
