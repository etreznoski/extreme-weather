{
 "cells": [
  {
   "cell_type": "code",
   "execution_count": 1,
   "id": "statewide-motel",
   "metadata": {},
   "outputs": [],
   "source": [
    "# Dependencies\n",
    "import numpy as np\n",
    "import pandas as pd\n",
    "import matplotlib.pyplot as plt\n",
    "from scipy import stats\n",
    "import requests\n",
    "from census import Census\n",
    "from us import states\n",
    "\n",
    "pd.set_option(\"display.max_rows\", None, \"display.max_columns\", None)"
   ]
  },
  {
   "cell_type": "code",
   "execution_count": 2,
   "id": "internal-reynolds",
   "metadata": {},
   "outputs": [],
   "source": [
    "data = pd.read_csv(\"NOAA_csvs/yearly_pop_fire_data.csv\")\n",
    "atad = data.transpose()\n",
    "pops = data[['County','2010 Pop.','2011 Pop.','2012 Pop.','2013 Pop.','2014 Pop.', '2015 Pop.','2016 Pop.','2017 Pop.','2018 Pop.','2019 Pop.']]\n",
    "spop = pops.transpose()\n",
    "fires = data[['County','2010 Fires','2011 Fires','2012 Fires','2013 Fires','2014 Fires','2015 Fires','2016 Fires','2017 Fires','2018 Fires','2019 Fires',]]\n",
    "serif = fires.transpose()"
   ]
  },
  {
   "cell_type": "code",
   "execution_count": 3,
   "id": "standing-number",
   "metadata": {},
   "outputs": [
    {
     "name": "stderr",
     "output_type": "stream",
     "text": [
      "C:\\Users\\mrjac\\Anaconda3\\envs\\PythonData\\lib\\site-packages\\ipykernel_launcher.py:15: UserWarning: Attempting to set identical bottom == top == 0.0 results in singular transformations; automatically expanding.\n",
      "  from ipykernel import kernelapp as app\n",
      "C:\\Users\\mrjac\\Anaconda3\\envs\\PythonData\\lib\\site-packages\\ipykernel_launcher.py:15: UserWarning: Attempting to set identical bottom == top == 0.0 results in singular transformations; automatically expanding.\n",
      "  from ipykernel import kernelapp as app\n",
      "C:\\Users\\mrjac\\Anaconda3\\envs\\PythonData\\lib\\site-packages\\ipykernel_launcher.py:15: UserWarning: Attempting to set identical bottom == top == 0.0 results in singular transformations; automatically expanding.\n",
      "  from ipykernel import kernelapp as app\n",
      "C:\\Users\\mrjac\\Anaconda3\\envs\\PythonData\\lib\\site-packages\\ipykernel_launcher.py:15: UserWarning: Attempting to set identical bottom == top == 0.0 results in singular transformations; automatically expanding.\n",
      "  from ipykernel import kernelapp as app\n",
      "C:\\Users\\mrjac\\Anaconda3\\envs\\PythonData\\lib\\site-packages\\ipykernel_launcher.py:15: UserWarning: Attempting to set identical bottom == top == 0.0 results in singular transformations; automatically expanding.\n",
      "  from ipykernel import kernelapp as app\n",
      "C:\\Users\\mrjac\\Anaconda3\\envs\\PythonData\\lib\\site-packages\\ipykernel_launcher.py:15: UserWarning: Attempting to set identical bottom == top == 0.0 results in singular transformations; automatically expanding.\n",
      "  from ipykernel import kernelapp as app\n",
      "C:\\Users\\mrjac\\Anaconda3\\envs\\PythonData\\lib\\site-packages\\ipykernel_launcher.py:15: UserWarning: Attempting to set identical bottom == top == 0.0 results in singular transformations; automatically expanding.\n",
      "  from ipykernel import kernelapp as app\n",
      "C:\\Users\\mrjac\\Anaconda3\\envs\\PythonData\\lib\\site-packages\\ipykernel_launcher.py:15: UserWarning: Attempting to set identical bottom == top == 0.0 results in singular transformations; automatically expanding.\n",
      "  from ipykernel import kernelapp as app\n",
      "C:\\Users\\mrjac\\Anaconda3\\envs\\PythonData\\lib\\site-packages\\ipykernel_launcher.py:15: UserWarning: Attempting to set identical bottom == top == 0.0 results in singular transformations; automatically expanding.\n",
      "  from ipykernel import kernelapp as app\n",
      "C:\\Users\\mrjac\\Anaconda3\\envs\\PythonData\\lib\\site-packages\\ipykernel_launcher.py:15: UserWarning: Attempting to set identical bottom == top == 0.0 results in singular transformations; automatically expanding.\n",
      "  from ipykernel import kernelapp as app\n",
      "C:\\Users\\mrjac\\Anaconda3\\envs\\PythonData\\lib\\site-packages\\ipykernel_launcher.py:15: UserWarning: Attempting to set identical bottom == top == 0.0 results in singular transformations; automatically expanding.\n",
      "  from ipykernel import kernelapp as app\n"
     ]
    },
    {
     "data": {
      "text/plain": [
       "<Figure size 432x288 with 0 Axes>"
      ]
     },
     "metadata": {},
     "output_type": "display_data"
    }
   ],
   "source": [
    "# Scatter Plots for Fires and Population\n",
    "i = 0\n",
    "top_counties = []\n",
    "bottom_counties = []\n",
    "for county in fires[\"County\"]:\n",
    "    r = 0\n",
    "    x = spop[i][1:]\n",
    "    y = serif[i][1:]\n",
    "    xarr = x.tolist()\n",
    "    yarr= y.tolist()\n",
    "    plt.scatter(x,y)\n",
    "    plt.title(f\"{serif[i][0]} Population and Fires (2010-2019)\")\n",
    "    plt.xlabel(f\"{county} County Population\")\n",
    "    plt.ylabel(\"Fires\")\n",
    "    plt.ylim(min(serif[i][1:])*.95, max(serif[i][1:])*1.05)\n",
    "    # Regression\n",
    "    if max(serif[i][1:]) > 0:\n",
    "        slope, intercept, r, pvalue, stderr = stats.linregress(xarr,yarr)\n",
    "        r_squared = r * r\n",
    "        regression_line = slope * x + intercept\n",
    "        equation = f\"y = {round(slope,3)}x + {round(intercept,3)}\"\n",
    "        a, = plt.plot(x,regression_line,\"-\")\n",
    "        plt.title(f\"{serif[i][0]} Population and Fires (2010-2019)\\nR: {round(r,3)}   |   R{(chr(0x00B2))}: {round(r_squared,3)}\")\n",
    "        plt.legend((a,),(equation,),loc='best')\n",
    "    else:\n",
    "        plt.title(f\"{serif[i][0]} Population and Fires (2010-2019)\")\n",
    "    plt.xlabel(f\"{county} County Population\")\n",
    "    plt.ylabel(\"Fires\")\n",
    "    if r > 0.4:\n",
    "        top_counties.append(county)\n",
    "    elif r < -0.4:\n",
    "        bottom_counties.append(county)\n",
    "    plt.tight_layout()\n",
    "    plt.savefig(f\"Full_Dataset_Graphs/Fire_Population_Scatters/{county}_County.png\")\n",
    "    plt.clf()\n",
    "    i = i + 1"
   ]
  },
  {
   "cell_type": "code",
   "execution_count": 4,
   "id": "living-workshop",
   "metadata": {},
   "outputs": [
    {
     "name": "stdout",
     "output_type": "stream",
     "text": [
      "['Los Angeles', 'Placer', 'Ventura']\n",
      "['Amador', 'Modoc']\n"
     ]
    }
   ],
   "source": [
    "print(top_counties)\n",
    "print(bottom_counties)"
   ]
  },
  {
   "cell_type": "code",
   "execution_count": 5,
   "id": "brazilian-bunny",
   "metadata": {},
   "outputs": [
    {
     "name": "stderr",
     "output_type": "stream",
     "text": [
      "C:\\Users\\mrjac\\Anaconda3\\envs\\PythonData\\lib\\site-packages\\ipykernel_launcher.py:8: UserWarning: Attempting to set identical bottom == top == 0.0 results in singular transformations; automatically expanding.\n",
      "  \n",
      "C:\\Users\\mrjac\\Anaconda3\\envs\\PythonData\\lib\\site-packages\\ipykernel_launcher.py:8: UserWarning: Attempting to set identical bottom == top == 0.0 results in singular transformations; automatically expanding.\n",
      "  \n",
      "C:\\Users\\mrjac\\Anaconda3\\envs\\PythonData\\lib\\site-packages\\ipykernel_launcher.py:8: UserWarning: Attempting to set identical bottom == top == 0.0 results in singular transformations; automatically expanding.\n",
      "  \n",
      "C:\\Users\\mrjac\\Anaconda3\\envs\\PythonData\\lib\\site-packages\\ipykernel_launcher.py:8: UserWarning: Attempting to set identical bottom == top == 0.0 results in singular transformations; automatically expanding.\n",
      "  \n",
      "C:\\Users\\mrjac\\Anaconda3\\envs\\PythonData\\lib\\site-packages\\ipykernel_launcher.py:8: UserWarning: Attempting to set identical bottom == top == 0.0 results in singular transformations; automatically expanding.\n",
      "  \n",
      "C:\\Users\\mrjac\\Anaconda3\\envs\\PythonData\\lib\\site-packages\\ipykernel_launcher.py:8: UserWarning: Attempting to set identical bottom == top == 0.0 results in singular transformations; automatically expanding.\n",
      "  \n",
      "C:\\Users\\mrjac\\Anaconda3\\envs\\PythonData\\lib\\site-packages\\ipykernel_launcher.py:8: UserWarning: Attempting to set identical bottom == top == 0.0 results in singular transformations; automatically expanding.\n",
      "  \n",
      "C:\\Users\\mrjac\\Anaconda3\\envs\\PythonData\\lib\\site-packages\\ipykernel_launcher.py:8: UserWarning: Attempting to set identical bottom == top == 0.0 results in singular transformations; automatically expanding.\n",
      "  \n",
      "C:\\Users\\mrjac\\Anaconda3\\envs\\PythonData\\lib\\site-packages\\ipykernel_launcher.py:8: UserWarning: Attempting to set identical bottom == top == 0.0 results in singular transformations; automatically expanding.\n",
      "  \n",
      "C:\\Users\\mrjac\\Anaconda3\\envs\\PythonData\\lib\\site-packages\\ipykernel_launcher.py:8: UserWarning: Attempting to set identical bottom == top == 0.0 results in singular transformations; automatically expanding.\n",
      "  \n",
      "C:\\Users\\mrjac\\Anaconda3\\envs\\PythonData\\lib\\site-packages\\ipykernel_launcher.py:8: UserWarning: Attempting to set identical bottom == top == 0.0 results in singular transformations; automatically expanding.\n",
      "  \n",
      "C:\\Users\\mrjac\\Anaconda3\\envs\\PythonData\\lib\\site-packages\\ipykernel_launcher.py:8: UserWarning: Attempting to set identical bottom == top == 0.0 results in singular transformations; automatically expanding.\n",
      "  \n",
      "C:\\Users\\mrjac\\Anaconda3\\envs\\PythonData\\lib\\site-packages\\ipykernel_launcher.py:8: UserWarning: Attempting to set identical bottom == top == 0.0 results in singular transformations; automatically expanding.\n",
      "  \n",
      "C:\\Users\\mrjac\\Anaconda3\\envs\\PythonData\\lib\\site-packages\\ipykernel_launcher.py:8: UserWarning: Attempting to set identical bottom == top == 0.0 results in singular transformations; automatically expanding.\n",
      "  \n",
      "C:\\Users\\mrjac\\Anaconda3\\envs\\PythonData\\lib\\site-packages\\ipykernel_launcher.py:8: UserWarning: Attempting to set identical bottom == top == 0.0 results in singular transformations; automatically expanding.\n",
      "  \n",
      "C:\\Users\\mrjac\\Anaconda3\\envs\\PythonData\\lib\\site-packages\\ipykernel_launcher.py:8: UserWarning: Attempting to set identical bottom == top == 0.0 results in singular transformations; automatically expanding.\n",
      "  \n",
      "C:\\Users\\mrjac\\Anaconda3\\envs\\PythonData\\lib\\site-packages\\ipykernel_launcher.py:8: UserWarning: Attempting to set identical bottom == top == 0.0 results in singular transformations; automatically expanding.\n",
      "  \n",
      "C:\\Users\\mrjac\\Anaconda3\\envs\\PythonData\\lib\\site-packages\\ipykernel_launcher.py:8: UserWarning: Attempting to set identical bottom == top == 0.0 results in singular transformations; automatically expanding.\n",
      "  \n",
      "C:\\Users\\mrjac\\Anaconda3\\envs\\PythonData\\lib\\site-packages\\ipykernel_launcher.py:8: UserWarning: Attempting to set identical bottom == top == 0.0 results in singular transformations; automatically expanding.\n",
      "  \n",
      "C:\\Users\\mrjac\\Anaconda3\\envs\\PythonData\\lib\\site-packages\\ipykernel_launcher.py:8: UserWarning: Attempting to set identical bottom == top == 0.0 results in singular transformations; automatically expanding.\n",
      "  \n",
      "C:\\Users\\mrjac\\Anaconda3\\envs\\PythonData\\lib\\site-packages\\ipykernel_launcher.py:8: UserWarning: Attempting to set identical bottom == top == 0.0 results in singular transformations; automatically expanding.\n",
      "  \n",
      "C:\\Users\\mrjac\\Anaconda3\\envs\\PythonData\\lib\\site-packages\\ipykernel_launcher.py:8: UserWarning: Attempting to set identical bottom == top == 0.0 results in singular transformations; automatically expanding.\n",
      "  \n",
      "C:\\Users\\mrjac\\Anaconda3\\envs\\PythonData\\lib\\site-packages\\ipykernel_launcher.py:8: UserWarning: Attempting to set identical bottom == top == 0.0 results in singular transformations; automatically expanding.\n",
      "  \n",
      "C:\\Users\\mrjac\\Anaconda3\\envs\\PythonData\\lib\\site-packages\\ipykernel_launcher.py:8: UserWarning: Attempting to set identical bottom == top == 0.0 results in singular transformations; automatically expanding.\n",
      "  \n",
      "C:\\Users\\mrjac\\Anaconda3\\envs\\PythonData\\lib\\site-packages\\ipykernel_launcher.py:8: UserWarning: Attempting to set identical bottom == top == 0.0 results in singular transformations; automatically expanding.\n",
      "  \n",
      "C:\\Users\\mrjac\\Anaconda3\\envs\\PythonData\\lib\\site-packages\\ipykernel_launcher.py:8: UserWarning: Attempting to set identical bottom == top == 0.0 results in singular transformations; automatically expanding.\n",
      "  \n",
      "C:\\Users\\mrjac\\Anaconda3\\envs\\PythonData\\lib\\site-packages\\ipykernel_launcher.py:8: UserWarning: Attempting to set identical bottom == top == 0.0 results in singular transformations; automatically expanding.\n",
      "  \n",
      "C:\\Users\\mrjac\\Anaconda3\\envs\\PythonData\\lib\\site-packages\\ipykernel_launcher.py:8: UserWarning: Attempting to set identical bottom == top == 0.0 results in singular transformations; automatically expanding.\n",
      "  \n",
      "C:\\Users\\mrjac\\Anaconda3\\envs\\PythonData\\lib\\site-packages\\ipykernel_launcher.py:8: UserWarning: Attempting to set identical bottom == top == 0.0 results in singular transformations; automatically expanding.\n",
      "  \n",
      "C:\\Users\\mrjac\\Anaconda3\\envs\\PythonData\\lib\\site-packages\\ipykernel_launcher.py:8: UserWarning: Attempting to set identical bottom == top == 0.0 results in singular transformations; automatically expanding.\n",
      "  \n",
      "C:\\Users\\mrjac\\Anaconda3\\envs\\PythonData\\lib\\site-packages\\ipykernel_launcher.py:8: UserWarning: Attempting to set identical bottom == top == 0.0 results in singular transformations; automatically expanding.\n",
      "  \n",
      "C:\\Users\\mrjac\\Anaconda3\\envs\\PythonData\\lib\\site-packages\\ipykernel_launcher.py:8: UserWarning: Attempting to set identical bottom == top == 0.0 results in singular transformations; automatically expanding.\n",
      "  \n",
      "C:\\Users\\mrjac\\Anaconda3\\envs\\PythonData\\lib\\site-packages\\ipykernel_launcher.py:8: UserWarning: Attempting to set identical bottom == top == 0.0 results in singular transformations; automatically expanding.\n",
      "  \n",
      "C:\\Users\\mrjac\\Anaconda3\\envs\\PythonData\\lib\\site-packages\\ipykernel_launcher.py:8: UserWarning: Attempting to set identical bottom == top == 0.0 results in singular transformations; automatically expanding.\n",
      "  \n",
      "C:\\Users\\mrjac\\Anaconda3\\envs\\PythonData\\lib\\site-packages\\ipykernel_launcher.py:8: UserWarning: Attempting to set identical bottom == top == 0.0 results in singular transformations; automatically expanding.\n",
      "  \n",
      "C:\\Users\\mrjac\\Anaconda3\\envs\\PythonData\\lib\\site-packages\\ipykernel_launcher.py:8: UserWarning: Attempting to set identical bottom == top == 0.0 results in singular transformations; automatically expanding.\n",
      "  \n",
      "C:\\Users\\mrjac\\Anaconda3\\envs\\PythonData\\lib\\site-packages\\ipykernel_launcher.py:8: UserWarning: Attempting to set identical bottom == top == 0.0 results in singular transformations; automatically expanding.\n",
      "  \n",
      "C:\\Users\\mrjac\\Anaconda3\\envs\\PythonData\\lib\\site-packages\\ipykernel_launcher.py:8: UserWarning: Attempting to set identical bottom == top == 0.0 results in singular transformations; automatically expanding.\n",
      "  \n",
      "C:\\Users\\mrjac\\Anaconda3\\envs\\PythonData\\lib\\site-packages\\ipykernel_launcher.py:8: UserWarning: Attempting to set identical bottom == top == 0.0 results in singular transformations; automatically expanding.\n",
      "  \n",
      "C:\\Users\\mrjac\\Anaconda3\\envs\\PythonData\\lib\\site-packages\\ipykernel_launcher.py:8: UserWarning: Attempting to set identical bottom == top == 0.0 results in singular transformations; automatically expanding.\n",
      "  \n"
     ]
    },
    {
     "name": "stderr",
     "output_type": "stream",
     "text": [
      "C:\\Users\\mrjac\\Anaconda3\\envs\\PythonData\\lib\\site-packages\\ipykernel_launcher.py:8: UserWarning: Attempting to set identical bottom == top == 0.0 results in singular transformations; automatically expanding.\n",
      "  \n",
      "C:\\Users\\mrjac\\Anaconda3\\envs\\PythonData\\lib\\site-packages\\ipykernel_launcher.py:8: UserWarning: Attempting to set identical bottom == top == 0.0 results in singular transformations; automatically expanding.\n",
      "  \n",
      "C:\\Users\\mrjac\\Anaconda3\\envs\\PythonData\\lib\\site-packages\\ipykernel_launcher.py:8: UserWarning: Attempting to set identical bottom == top == 0.0 results in singular transformations; automatically expanding.\n",
      "  \n",
      "C:\\Users\\mrjac\\Anaconda3\\envs\\PythonData\\lib\\site-packages\\ipykernel_launcher.py:8: UserWarning: Attempting to set identical bottom == top == 0.0 results in singular transformations; automatically expanding.\n",
      "  \n",
      "C:\\Users\\mrjac\\Anaconda3\\envs\\PythonData\\lib\\site-packages\\ipykernel_launcher.py:8: UserWarning: Attempting to set identical bottom == top == 0.0 results in singular transformations; automatically expanding.\n",
      "  \n",
      "C:\\Users\\mrjac\\Anaconda3\\envs\\PythonData\\lib\\site-packages\\ipykernel_launcher.py:8: UserWarning: Attempting to set identical bottom == top == 0.0 results in singular transformations; automatically expanding.\n",
      "  \n"
     ]
    },
    {
     "data": {
      "text/plain": [
       "<Figure size 432x288 with 0 Axes>"
      ]
     },
     "metadata": {},
     "output_type": "display_data"
    }
   ],
   "source": [
    "# Line Graphs for Fires\n",
    "i = 0\n",
    "for county in fires[\"County\"]:\n",
    "    serif[i][1:].plot()\n",
    "    plt.title(f\"{serif[i][0]} County Fires (2010-2019)\")\n",
    "    plt.xlabel(\"Year\")\n",
    "    plt.ylabel(\"Fires\")\n",
    "    plt.ylim(min(serif[i][1:])*.95, max(serif[i][1:])*1.05)\n",
    "    plt.savefig(f\"Full_Dataset_Graphs/Fire_Graphs/{county}_County.png\")\n",
    "    plt.clf()\n",
    "    i = i + 1"
   ]
  },
  {
   "cell_type": "code",
   "execution_count": 6,
   "id": "enabling-means",
   "metadata": {},
   "outputs": [
    {
     "data": {
      "text/plain": [
       "<Figure size 432x288 with 0 Axes>"
      ]
     },
     "metadata": {},
     "output_type": "display_data"
    }
   ],
   "source": [
    "# Line Graphs for Populations\n",
    "i = 0\n",
    "for county in pops[\"County\"]:\n",
    "    spop[i][1:].plot()\n",
    "    plt.title(f\"{spop[i][0]} County Population (2010-2019)\")\n",
    "    plt.xlabel(\"Year\")\n",
    "    plt.ylabel(\"Population\")\n",
    "    plt.ylim(min(spop[i][1:])*.95, max(spop[i][1:])*1.05)\n",
    "    plt.savefig(f\"Full_Dataset_Graphs/Population_Graphs/{county}_County.png\")\n",
    "    plt.clf()\n",
    "    i = i + 1"
   ]
  }
 ],
 "metadata": {
  "kernelspec": {
   "display_name": "Python 3",
   "language": "python",
   "name": "python3"
  },
  "language_info": {
   "codemirror_mode": {
    "name": "ipython",
    "version": 3
   },
   "file_extension": ".py",
   "mimetype": "text/x-python",
   "name": "python",
   "nbconvert_exporter": "python",
   "pygments_lexer": "ipython3",
   "version": "3.6.10"
  }
 },
 "nbformat": 4,
 "nbformat_minor": 5
}
