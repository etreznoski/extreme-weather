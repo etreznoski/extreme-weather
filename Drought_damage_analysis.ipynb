{
 "cells": [
  {
   "cell_type": "code",
   "execution_count": 4,
   "id": "least-jungle",
   "metadata": {},
   "outputs": [],
   "source": [
    "# Dependencies\n",
    "import gmaps\n",
    "import numpy as np\n",
    "import pandas as pd\n",
    "import requests\n",
    "import time\n",
    "from scipy.stats import linregress\n",
    "from matplotlib import pyplot as plt"
   ]
  },
  {
   "cell_type": "code",
   "execution_count": 9,
   "id": "rising-creek",
   "metadata": {},
   "outputs": [
    {
     "data": {
      "text/html": [
       "<div>\n",
       "<style scoped>\n",
       "    .dataframe tbody tr th:only-of-type {\n",
       "        vertical-align: middle;\n",
       "    }\n",
       "\n",
       "    .dataframe tbody tr th {\n",
       "        vertical-align: top;\n",
       "    }\n",
       "\n",
       "    .dataframe thead th {\n",
       "        text-align: right;\n",
       "    }\n",
       "</style>\n",
       "<table border=\"1\" class=\"dataframe\">\n",
       "  <thead>\n",
       "    <tr style=\"text-align: right;\">\n",
       "      <th></th>\n",
       "      <th>Unnamed: 0</th>\n",
       "      <th>EVENT_ID</th>\n",
       "      <th>CZ_NAME_STR</th>\n",
       "      <th>BEGIN_LOCATION</th>\n",
       "      <th>BEGIN_DATE</th>\n",
       "      <th>BEGIN_TIME</th>\n",
       "      <th>EVENT_TYPE</th>\n",
       "      <th>MAGNITUDE</th>\n",
       "      <th>TOR_F_SCALE</th>\n",
       "      <th>DEATHS_DIRECT</th>\n",
       "      <th>...</th>\n",
       "      <th>END_RANGE</th>\n",
       "      <th>END_AZIMUTH</th>\n",
       "      <th>END_LOCATION</th>\n",
       "      <th>BEGIN_LAT</th>\n",
       "      <th>BEGIN_LON</th>\n",
       "      <th>END_LAT</th>\n",
       "      <th>END_LON</th>\n",
       "      <th>EVENT_NARRATIVE</th>\n",
       "      <th>EPISODE_NARRATIVE</th>\n",
       "      <th>ABSOLUTE_ROWNUMBER</th>\n",
       "    </tr>\n",
       "  </thead>\n",
       "  <tbody>\n",
       "    <tr>\n",
       "      <th>0</th>\n",
       "      <td>0</td>\n",
       "      <td>497009</td>\n",
       "      <td>SOUTHERN SACRAMENTO VALLEY (ZONE)</td>\n",
       "      <td></td>\n",
       "      <td>01/01/2014</td>\n",
       "      <td>0</td>\n",
       "      <td>Drought</td>\n",
       "      <td></td>\n",
       "      <td></td>\n",
       "      <td>0</td>\n",
       "      <td>...</td>\n",
       "      <td></td>\n",
       "      <td></td>\n",
       "      <td></td>\n",
       "      <td></td>\n",
       "      <td></td>\n",
       "      <td></td>\n",
       "      <td></td>\n",
       "      <td>A plethora of records were set across interior...</td>\n",
       "      <td>January was an abnormally dry and warm month f...</td>\n",
       "      <td>1</td>\n",
       "    </tr>\n",
       "    <tr>\n",
       "      <th>1</th>\n",
       "      <td>1</td>\n",
       "      <td>498466</td>\n",
       "      <td>SE KERN CTY DESERT (ZONE)</td>\n",
       "      <td></td>\n",
       "      <td>01/01/2014</td>\n",
       "      <td>0</td>\n",
       "      <td>Drought</td>\n",
       "      <td></td>\n",
       "      <td></td>\n",
       "      <td>0</td>\n",
       "      <td>...</td>\n",
       "      <td></td>\n",
       "      <td></td>\n",
       "      <td></td>\n",
       "      <td></td>\n",
       "      <td></td>\n",
       "      <td></td>\n",
       "      <td></td>\n",
       "      <td>NaN</td>\n",
       "      <td>The California drought continued in full force...</td>\n",
       "      <td>2</td>\n",
       "    </tr>\n",
       "    <tr>\n",
       "      <th>2</th>\n",
       "      <td>2</td>\n",
       "      <td>498465</td>\n",
       "      <td>INDIAN WELLS VLY (ZONE)</td>\n",
       "      <td></td>\n",
       "      <td>01/01/2014</td>\n",
       "      <td>0</td>\n",
       "      <td>Drought</td>\n",
       "      <td></td>\n",
       "      <td></td>\n",
       "      <td>0</td>\n",
       "      <td>...</td>\n",
       "      <td></td>\n",
       "      <td></td>\n",
       "      <td></td>\n",
       "      <td></td>\n",
       "      <td></td>\n",
       "      <td></td>\n",
       "      <td></td>\n",
       "      <td>NaN</td>\n",
       "      <td>The California drought continued in full force...</td>\n",
       "      <td>3</td>\n",
       "    </tr>\n",
       "    <tr>\n",
       "      <th>3</th>\n",
       "      <td>3</td>\n",
       "      <td>498464</td>\n",
       "      <td>TULARE CTY MTNS (ZONE)</td>\n",
       "      <td></td>\n",
       "      <td>01/01/2014</td>\n",
       "      <td>0</td>\n",
       "      <td>Drought</td>\n",
       "      <td></td>\n",
       "      <td></td>\n",
       "      <td>0</td>\n",
       "      <td>...</td>\n",
       "      <td></td>\n",
       "      <td></td>\n",
       "      <td></td>\n",
       "      <td></td>\n",
       "      <td></td>\n",
       "      <td></td>\n",
       "      <td></td>\n",
       "      <td>NaN</td>\n",
       "      <td>The California drought continued in full force...</td>\n",
       "      <td>4</td>\n",
       "    </tr>\n",
       "    <tr>\n",
       "      <th>4</th>\n",
       "      <td>4</td>\n",
       "      <td>498463</td>\n",
       "      <td>S SIERRA MTNS (ZONE)</td>\n",
       "      <td></td>\n",
       "      <td>01/01/2014</td>\n",
       "      <td>0</td>\n",
       "      <td>Drought</td>\n",
       "      <td></td>\n",
       "      <td></td>\n",
       "      <td>0</td>\n",
       "      <td>...</td>\n",
       "      <td></td>\n",
       "      <td></td>\n",
       "      <td></td>\n",
       "      <td></td>\n",
       "      <td></td>\n",
       "      <td></td>\n",
       "      <td></td>\n",
       "      <td>NaN</td>\n",
       "      <td>The California drought continued in full force...</td>\n",
       "      <td>5</td>\n",
       "    </tr>\n",
       "  </tbody>\n",
       "</table>\n",
       "<p>5 rows × 38 columns</p>\n",
       "</div>"
      ],
      "text/plain": [
       "   Unnamed: 0  EVENT_ID                        CZ_NAME_STR BEGIN_LOCATION  \\\n",
       "0           0    497009  SOUTHERN SACRAMENTO VALLEY (ZONE)                  \n",
       "1           1    498466          SE KERN CTY DESERT (ZONE)                  \n",
       "2           2    498465            INDIAN WELLS VLY (ZONE)                  \n",
       "3           3    498464             TULARE CTY MTNS (ZONE)                  \n",
       "4           4    498463               S SIERRA MTNS (ZONE)                  \n",
       "\n",
       "   BEGIN_DATE  BEGIN_TIME EVENT_TYPE MAGNITUDE TOR_F_SCALE  DEATHS_DIRECT  \\\n",
       "0  01/01/2014           0    Drought                                    0   \n",
       "1  01/01/2014           0    Drought                                    0   \n",
       "2  01/01/2014           0    Drought                                    0   \n",
       "3  01/01/2014           0    Drought                                    0   \n",
       "4  01/01/2014           0    Drought                                    0   \n",
       "\n",
       "   ...  END_RANGE  END_AZIMUTH  END_LOCATION BEGIN_LAT BEGIN_LON END_LAT  \\\n",
       "0  ...                                                                     \n",
       "1  ...                                                                     \n",
       "2  ...                                                                     \n",
       "3  ...                                                                     \n",
       "4  ...                                                                     \n",
       "\n",
       "   END_LON                                    EVENT_NARRATIVE  \\\n",
       "0           A plethora of records were set across interior...   \n",
       "1                                                         NaN   \n",
       "2                                                         NaN   \n",
       "3                                                         NaN   \n",
       "4                                                         NaN   \n",
       "\n",
       "                                   EPISODE_NARRATIVE ABSOLUTE_ROWNUMBER  \n",
       "0  January was an abnormally dry and warm month f...                  1  \n",
       "1  The California drought continued in full force...                  2  \n",
       "2  The California drought continued in full force...                  3  \n",
       "3  The California drought continued in full force...                  4  \n",
       "4  The California drought continued in full force...                  5  \n",
       "\n",
       "[5 rows x 38 columns]"
      ]
     },
     "execution_count": 9,
     "metadata": {},
     "output_type": "execute_result"
    }
   ],
   "source": [
    "unclean_drought_df = pd.read_csv('NOAA_csvs/drought_2010_2019.csv')\n",
    "unclean_drought_df.head()"
   ]
  },
  {
   "cell_type": "code",
   "execution_count": 10,
   "id": "controversial-evanescence",
   "metadata": {},
   "outputs": [
    {
     "data": {
      "text/plain": [
       "Index(['Unnamed: 0', 'EVENT_ID', 'CZ_NAME_STR', 'BEGIN_LOCATION', 'BEGIN_DATE',\n",
       "       'BEGIN_TIME', 'EVENT_TYPE', 'MAGNITUDE', 'TOR_F_SCALE', 'DEATHS_DIRECT',\n",
       "       'INJURIES_DIRECT', 'DAMAGE_PROPERTY_NUM', 'DAMAGE_CROPS_NUM',\n",
       "       'STATE_ABBR', 'CZ_TIMEZONE', 'MAGNITUDE_TYPE', 'EPISODE_ID', 'CZ_TYPE',\n",
       "       'CZ_FIPS', 'WFO', 'INJURIES_INDIRECT', 'DEATHS_INDIRECT', 'SOURCE',\n",
       "       'FLOOD_CAUSE', 'TOR_LENGTH', 'TOR_WIDTH', 'BEGIN_RANGE',\n",
       "       'BEGIN_AZIMUTH', 'END_RANGE', 'END_AZIMUTH', 'END_LOCATION',\n",
       "       'BEGIN_LAT', 'BEGIN_LON', 'END_LAT', 'END_LON', 'EVENT_NARRATIVE',\n",
       "       'EPISODE_NARRATIVE', 'ABSOLUTE_ROWNUMBER'],\n",
       "      dtype='object')"
      ]
     },
     "execution_count": 10,
     "metadata": {},
     "output_type": "execute_result"
    }
   ],
   "source": [
    "unclean_drought_df.columns"
   ]
  },
  {
   "cell_type": "code",
   "execution_count": 14,
   "id": "variable-timothy",
   "metadata": {},
   "outputs": [
    {
     "data": {
      "text/html": [
       "<div>\n",
       "<style scoped>\n",
       "    .dataframe tbody tr th:only-of-type {\n",
       "        vertical-align: middle;\n",
       "    }\n",
       "\n",
       "    .dataframe tbody tr th {\n",
       "        vertical-align: top;\n",
       "    }\n",
       "\n",
       "    .dataframe thead th {\n",
       "        text-align: right;\n",
       "    }\n",
       "</style>\n",
       "<table border=\"1\" class=\"dataframe\">\n",
       "  <thead>\n",
       "    <tr style=\"text-align: right;\">\n",
       "      <th></th>\n",
       "      <th>EVENT_ID</th>\n",
       "      <th>CZ_NAME_STR</th>\n",
       "      <th>BEGIN_DATE</th>\n",
       "      <th>EVENT_TYPE</th>\n",
       "      <th>DEATHS_DIRECT</th>\n",
       "      <th>DEATHS_INDIRECT</th>\n",
       "      <th>INJURIES_DIRECT</th>\n",
       "      <th>INJURIES_INDIRECT</th>\n",
       "      <th>DAMAGE_PROPERTY_NUM</th>\n",
       "      <th>DAMAGE_CROPS_NUM</th>\n",
       "      <th>CZ_FIPS</th>\n",
       "      <th>EVENT_NARRATIVE</th>\n",
       "      <th>EPISODE_NARRATIVE</th>\n",
       "    </tr>\n",
       "  </thead>\n",
       "  <tbody>\n",
       "    <tr>\n",
       "      <th>0</th>\n",
       "      <td>497009</td>\n",
       "      <td>SOUTHERN SACRAMENTO VALLEY (ZONE)</td>\n",
       "      <td>01/01/2014</td>\n",
       "      <td>Drought</td>\n",
       "      <td>0</td>\n",
       "      <td>0</td>\n",
       "      <td>0</td>\n",
       "      <td>0</td>\n",
       "      <td>0</td>\n",
       "      <td>0</td>\n",
       "      <td>17</td>\n",
       "      <td>A plethora of records were set across interior...</td>\n",
       "      <td>January was an abnormally dry and warm month f...</td>\n",
       "    </tr>\n",
       "    <tr>\n",
       "      <th>1</th>\n",
       "      <td>498466</td>\n",
       "      <td>SE KERN CTY DESERT (ZONE)</td>\n",
       "      <td>01/01/2014</td>\n",
       "      <td>Drought</td>\n",
       "      <td>0</td>\n",
       "      <td>0</td>\n",
       "      <td>0</td>\n",
       "      <td>0</td>\n",
       "      <td>0</td>\n",
       "      <td>0</td>\n",
       "      <td>99</td>\n",
       "      <td>NaN</td>\n",
       "      <td>The California drought continued in full force...</td>\n",
       "    </tr>\n",
       "    <tr>\n",
       "      <th>2</th>\n",
       "      <td>498465</td>\n",
       "      <td>INDIAN WELLS VLY (ZONE)</td>\n",
       "      <td>01/01/2014</td>\n",
       "      <td>Drought</td>\n",
       "      <td>0</td>\n",
       "      <td>0</td>\n",
       "      <td>0</td>\n",
       "      <td>0</td>\n",
       "      <td>0</td>\n",
       "      <td>0</td>\n",
       "      <td>98</td>\n",
       "      <td>NaN</td>\n",
       "      <td>The California drought continued in full force...</td>\n",
       "    </tr>\n",
       "    <tr>\n",
       "      <th>3</th>\n",
       "      <td>498464</td>\n",
       "      <td>TULARE CTY MTNS (ZONE)</td>\n",
       "      <td>01/01/2014</td>\n",
       "      <td>Drought</td>\n",
       "      <td>0</td>\n",
       "      <td>0</td>\n",
       "      <td>0</td>\n",
       "      <td>0</td>\n",
       "      <td>0</td>\n",
       "      <td>0</td>\n",
       "      <td>97</td>\n",
       "      <td>NaN</td>\n",
       "      <td>The California drought continued in full force...</td>\n",
       "    </tr>\n",
       "    <tr>\n",
       "      <th>4</th>\n",
       "      <td>498463</td>\n",
       "      <td>S SIERRA MTNS (ZONE)</td>\n",
       "      <td>01/01/2014</td>\n",
       "      <td>Drought</td>\n",
       "      <td>0</td>\n",
       "      <td>0</td>\n",
       "      <td>0</td>\n",
       "      <td>0</td>\n",
       "      <td>0</td>\n",
       "      <td>0</td>\n",
       "      <td>96</td>\n",
       "      <td>NaN</td>\n",
       "      <td>The California drought continued in full force...</td>\n",
       "    </tr>\n",
       "    <tr>\n",
       "      <th>...</th>\n",
       "      <td>...</td>\n",
       "      <td>...</td>\n",
       "      <td>...</td>\n",
       "      <td>...</td>\n",
       "      <td>...</td>\n",
       "      <td>...</td>\n",
       "      <td>...</td>\n",
       "      <td>...</td>\n",
       "      <td>...</td>\n",
       "      <td>...</td>\n",
       "      <td>...</td>\n",
       "      <td>...</td>\n",
       "      <td>...</td>\n",
       "    </tr>\n",
       "    <tr>\n",
       "      <th>534</th>\n",
       "      <td>699890</td>\n",
       "      <td>MOTHERLODE/CAMPTONVILLE TO GROVELAND (ZONE)</td>\n",
       "      <td>02/01/2017</td>\n",
       "      <td>Drought</td>\n",
       "      <td>0</td>\n",
       "      <td>0</td>\n",
       "      <td>0</td>\n",
       "      <td>0</td>\n",
       "      <td>0</td>\n",
       "      <td>0</td>\n",
       "      <td>67</td>\n",
       "      <td>The Household Water Supply Shortage Reporting ...</td>\n",
       "      <td>Long term drought impacts continued to decreas...</td>\n",
       "    </tr>\n",
       "    <tr>\n",
       "      <th>535</th>\n",
       "      <td>699859</td>\n",
       "      <td>NORTHERN SAN JOAQUIN VALLEY (ZONE)</td>\n",
       "      <td>03/01/2017</td>\n",
       "      <td>Drought</td>\n",
       "      <td>0</td>\n",
       "      <td>0</td>\n",
       "      <td>0</td>\n",
       "      <td>0</td>\n",
       "      <td>0</td>\n",
       "      <td>0</td>\n",
       "      <td>19</td>\n",
       "      <td>The Household Water Supply Shortage Reporting ...</td>\n",
       "      <td>Long term drought impacts continued to decreas...</td>\n",
       "    </tr>\n",
       "    <tr>\n",
       "      <th>536</th>\n",
       "      <td>699889</td>\n",
       "      <td>MOTHERLODE/CAMPTONVILLE TO GROVELAND (ZONE)</td>\n",
       "      <td>03/01/2017</td>\n",
       "      <td>Drought</td>\n",
       "      <td>0</td>\n",
       "      <td>0</td>\n",
       "      <td>0</td>\n",
       "      <td>0</td>\n",
       "      <td>0</td>\n",
       "      <td>0</td>\n",
       "      <td>67</td>\n",
       "      <td>The Household Water Supply Shortage Reporting ...</td>\n",
       "      <td>Long term drought impacts continued to decreas...</td>\n",
       "    </tr>\n",
       "    <tr>\n",
       "      <th>537</th>\n",
       "      <td>699893</td>\n",
       "      <td>MOTHERLODE/CAMPTONVILLE TO GROVELAND (ZONE)</td>\n",
       "      <td>04/01/2017</td>\n",
       "      <td>Drought</td>\n",
       "      <td>0</td>\n",
       "      <td>0</td>\n",
       "      <td>0</td>\n",
       "      <td>0</td>\n",
       "      <td>0</td>\n",
       "      <td>0</td>\n",
       "      <td>67</td>\n",
       "      <td>The Household Water Supply Shortage Reporting ...</td>\n",
       "      <td>Long term drought impacts continued to ease th...</td>\n",
       "    </tr>\n",
       "    <tr>\n",
       "      <th>538</th>\n",
       "      <td>699895</td>\n",
       "      <td>NORTHERN SAN JOAQUIN VALLEY (ZONE)</td>\n",
       "      <td>04/01/2017</td>\n",
       "      <td>Drought</td>\n",
       "      <td>0</td>\n",
       "      <td>0</td>\n",
       "      <td>0</td>\n",
       "      <td>0</td>\n",
       "      <td>0</td>\n",
       "      <td>0</td>\n",
       "      <td>19</td>\n",
       "      <td>The Household Water Supply Shortage Reporting ...</td>\n",
       "      <td>Long term drought impacts continued to ease th...</td>\n",
       "    </tr>\n",
       "  </tbody>\n",
       "</table>\n",
       "<p>539 rows × 13 columns</p>\n",
       "</div>"
      ],
      "text/plain": [
       "     EVENT_ID                                  CZ_NAME_STR  BEGIN_DATE  \\\n",
       "0      497009            SOUTHERN SACRAMENTO VALLEY (ZONE)  01/01/2014   \n",
       "1      498466                    SE KERN CTY DESERT (ZONE)  01/01/2014   \n",
       "2      498465                      INDIAN WELLS VLY (ZONE)  01/01/2014   \n",
       "3      498464                       TULARE CTY MTNS (ZONE)  01/01/2014   \n",
       "4      498463                         S SIERRA MTNS (ZONE)  01/01/2014   \n",
       "..        ...                                          ...         ...   \n",
       "534    699890  MOTHERLODE/CAMPTONVILLE TO GROVELAND (ZONE)  02/01/2017   \n",
       "535    699859           NORTHERN SAN JOAQUIN VALLEY (ZONE)  03/01/2017   \n",
       "536    699889  MOTHERLODE/CAMPTONVILLE TO GROVELAND (ZONE)  03/01/2017   \n",
       "537    699893  MOTHERLODE/CAMPTONVILLE TO GROVELAND (ZONE)  04/01/2017   \n",
       "538    699895           NORTHERN SAN JOAQUIN VALLEY (ZONE)  04/01/2017   \n",
       "\n",
       "    EVENT_TYPE  DEATHS_DIRECT  DEATHS_INDIRECT  INJURIES_DIRECT  \\\n",
       "0      Drought              0                0                0   \n",
       "1      Drought              0                0                0   \n",
       "2      Drought              0                0                0   \n",
       "3      Drought              0                0                0   \n",
       "4      Drought              0                0                0   \n",
       "..         ...            ...              ...              ...   \n",
       "534    Drought              0                0                0   \n",
       "535    Drought              0                0                0   \n",
       "536    Drought              0                0                0   \n",
       "537    Drought              0                0                0   \n",
       "538    Drought              0                0                0   \n",
       "\n",
       "     INJURIES_INDIRECT  DAMAGE_PROPERTY_NUM  DAMAGE_CROPS_NUM  CZ_FIPS  \\\n",
       "0                    0                    0                 0       17   \n",
       "1                    0                    0                 0       99   \n",
       "2                    0                    0                 0       98   \n",
       "3                    0                    0                 0       97   \n",
       "4                    0                    0                 0       96   \n",
       "..                 ...                  ...               ...      ...   \n",
       "534                  0                    0                 0       67   \n",
       "535                  0                    0                 0       19   \n",
       "536                  0                    0                 0       67   \n",
       "537                  0                    0                 0       67   \n",
       "538                  0                    0                 0       19   \n",
       "\n",
       "                                       EVENT_NARRATIVE  \\\n",
       "0    A plethora of records were set across interior...   \n",
       "1                                                  NaN   \n",
       "2                                                  NaN   \n",
       "3                                                  NaN   \n",
       "4                                                  NaN   \n",
       "..                                                 ...   \n",
       "534  The Household Water Supply Shortage Reporting ...   \n",
       "535  The Household Water Supply Shortage Reporting ...   \n",
       "536  The Household Water Supply Shortage Reporting ...   \n",
       "537  The Household Water Supply Shortage Reporting ...   \n",
       "538  The Household Water Supply Shortage Reporting ...   \n",
       "\n",
       "                                     EPISODE_NARRATIVE  \n",
       "0    January was an abnormally dry and warm month f...  \n",
       "1    The California drought continued in full force...  \n",
       "2    The California drought continued in full force...  \n",
       "3    The California drought continued in full force...  \n",
       "4    The California drought continued in full force...  \n",
       "..                                                 ...  \n",
       "534  Long term drought impacts continued to decreas...  \n",
       "535  Long term drought impacts continued to decreas...  \n",
       "536  Long term drought impacts continued to decreas...  \n",
       "537  Long term drought impacts continued to ease th...  \n",
       "538  Long term drought impacts continued to ease th...  \n",
       "\n",
       "[539 rows x 13 columns]"
      ]
     },
     "execution_count": 14,
     "metadata": {},
     "output_type": "execute_result"
    }
   ],
   "source": [
    "reduced_drought_df = unclean_drought_df[['EVENT_ID', 'CZ_NAME_STR', 'BEGIN_DATE', 'EVENT_TYPE', 'DEATHS_DIRECT', 'DEATHS_INDIRECT', \n",
    "                                       'INJURIES_DIRECT', 'INJURIES_INDIRECT', 'DAMAGE_PROPERTY_NUM', 'DAMAGE_CROPS_NUM', 'CZ_FIPS',\n",
    "                                       'EVENT_NARRATIVE', 'EPISODE_NARRATIVE']]\n",
    "reduced_drought_df"
   ]
  },
  {
   "cell_type": "code",
   "execution_count": 18,
   "id": "intimate-joining",
   "metadata": {},
   "outputs": [
    {
     "data": {
      "text/html": [
       "<div>\n",
       "<style scoped>\n",
       "    .dataframe tbody tr th:only-of-type {\n",
       "        vertical-align: middle;\n",
       "    }\n",
       "\n",
       "    .dataframe tbody tr th {\n",
       "        vertical-align: top;\n",
       "    }\n",
       "\n",
       "    .dataframe thead th {\n",
       "        text-align: right;\n",
       "    }\n",
       "</style>\n",
       "<table border=\"1\" class=\"dataframe\">\n",
       "  <thead>\n",
       "    <tr style=\"text-align: right;\">\n",
       "      <th></th>\n",
       "      <th>NOAA ID</th>\n",
       "      <th>County Name</th>\n",
       "      <th>Date</th>\n",
       "      <th>Type</th>\n",
       "      <th>Direct Deaths</th>\n",
       "      <th>Indirect Deaths</th>\n",
       "      <th>Direct Injuries</th>\n",
       "      <th>Indirect Injuries</th>\n",
       "      <th>Property Damage</th>\n",
       "      <th>Crop Damage</th>\n",
       "      <th>NOAA FIPS</th>\n",
       "      <th>Event Narrative</th>\n",
       "      <th>Episode Narrative</th>\n",
       "    </tr>\n",
       "  </thead>\n",
       "  <tbody>\n",
       "    <tr>\n",
       "      <th>0</th>\n",
       "      <td>497009</td>\n",
       "      <td>SOUTHERN SACRAMENTO VALLEY (ZONE)</td>\n",
       "      <td>01/01/2014</td>\n",
       "      <td>Drought</td>\n",
       "      <td>0</td>\n",
       "      <td>0</td>\n",
       "      <td>0</td>\n",
       "      <td>0</td>\n",
       "      <td>0</td>\n",
       "      <td>0</td>\n",
       "      <td>17</td>\n",
       "      <td>A plethora of records were set across interior...</td>\n",
       "      <td>January was an abnormally dry and warm month f...</td>\n",
       "    </tr>\n",
       "    <tr>\n",
       "      <th>1</th>\n",
       "      <td>498466</td>\n",
       "      <td>SE KERN CTY DESERT (ZONE)</td>\n",
       "      <td>01/01/2014</td>\n",
       "      <td>Drought</td>\n",
       "      <td>0</td>\n",
       "      <td>0</td>\n",
       "      <td>0</td>\n",
       "      <td>0</td>\n",
       "      <td>0</td>\n",
       "      <td>0</td>\n",
       "      <td>99</td>\n",
       "      <td>NaN</td>\n",
       "      <td>The California drought continued in full force...</td>\n",
       "    </tr>\n",
       "    <tr>\n",
       "      <th>2</th>\n",
       "      <td>498465</td>\n",
       "      <td>INDIAN WELLS VLY (ZONE)</td>\n",
       "      <td>01/01/2014</td>\n",
       "      <td>Drought</td>\n",
       "      <td>0</td>\n",
       "      <td>0</td>\n",
       "      <td>0</td>\n",
       "      <td>0</td>\n",
       "      <td>0</td>\n",
       "      <td>0</td>\n",
       "      <td>98</td>\n",
       "      <td>NaN</td>\n",
       "      <td>The California drought continued in full force...</td>\n",
       "    </tr>\n",
       "    <tr>\n",
       "      <th>3</th>\n",
       "      <td>498464</td>\n",
       "      <td>TULARE CTY MTNS (ZONE)</td>\n",
       "      <td>01/01/2014</td>\n",
       "      <td>Drought</td>\n",
       "      <td>0</td>\n",
       "      <td>0</td>\n",
       "      <td>0</td>\n",
       "      <td>0</td>\n",
       "      <td>0</td>\n",
       "      <td>0</td>\n",
       "      <td>97</td>\n",
       "      <td>NaN</td>\n",
       "      <td>The California drought continued in full force...</td>\n",
       "    </tr>\n",
       "    <tr>\n",
       "      <th>4</th>\n",
       "      <td>498463</td>\n",
       "      <td>S SIERRA MTNS (ZONE)</td>\n",
       "      <td>01/01/2014</td>\n",
       "      <td>Drought</td>\n",
       "      <td>0</td>\n",
       "      <td>0</td>\n",
       "      <td>0</td>\n",
       "      <td>0</td>\n",
       "      <td>0</td>\n",
       "      <td>0</td>\n",
       "      <td>96</td>\n",
       "      <td>NaN</td>\n",
       "      <td>The California drought continued in full force...</td>\n",
       "    </tr>\n",
       "    <tr>\n",
       "      <th>...</th>\n",
       "      <td>...</td>\n",
       "      <td>...</td>\n",
       "      <td>...</td>\n",
       "      <td>...</td>\n",
       "      <td>...</td>\n",
       "      <td>...</td>\n",
       "      <td>...</td>\n",
       "      <td>...</td>\n",
       "      <td>...</td>\n",
       "      <td>...</td>\n",
       "      <td>...</td>\n",
       "      <td>...</td>\n",
       "      <td>...</td>\n",
       "    </tr>\n",
       "    <tr>\n",
       "      <th>534</th>\n",
       "      <td>699890</td>\n",
       "      <td>MOTHERLODE/CAMPTONVILLE TO GROVELAND (ZONE)</td>\n",
       "      <td>02/01/2017</td>\n",
       "      <td>Drought</td>\n",
       "      <td>0</td>\n",
       "      <td>0</td>\n",
       "      <td>0</td>\n",
       "      <td>0</td>\n",
       "      <td>0</td>\n",
       "      <td>0</td>\n",
       "      <td>67</td>\n",
       "      <td>The Household Water Supply Shortage Reporting ...</td>\n",
       "      <td>Long term drought impacts continued to decreas...</td>\n",
       "    </tr>\n",
       "    <tr>\n",
       "      <th>535</th>\n",
       "      <td>699859</td>\n",
       "      <td>NORTHERN SAN JOAQUIN VALLEY (ZONE)</td>\n",
       "      <td>03/01/2017</td>\n",
       "      <td>Drought</td>\n",
       "      <td>0</td>\n",
       "      <td>0</td>\n",
       "      <td>0</td>\n",
       "      <td>0</td>\n",
       "      <td>0</td>\n",
       "      <td>0</td>\n",
       "      <td>19</td>\n",
       "      <td>The Household Water Supply Shortage Reporting ...</td>\n",
       "      <td>Long term drought impacts continued to decreas...</td>\n",
       "    </tr>\n",
       "    <tr>\n",
       "      <th>536</th>\n",
       "      <td>699889</td>\n",
       "      <td>MOTHERLODE/CAMPTONVILLE TO GROVELAND (ZONE)</td>\n",
       "      <td>03/01/2017</td>\n",
       "      <td>Drought</td>\n",
       "      <td>0</td>\n",
       "      <td>0</td>\n",
       "      <td>0</td>\n",
       "      <td>0</td>\n",
       "      <td>0</td>\n",
       "      <td>0</td>\n",
       "      <td>67</td>\n",
       "      <td>The Household Water Supply Shortage Reporting ...</td>\n",
       "      <td>Long term drought impacts continued to decreas...</td>\n",
       "    </tr>\n",
       "    <tr>\n",
       "      <th>537</th>\n",
       "      <td>699893</td>\n",
       "      <td>MOTHERLODE/CAMPTONVILLE TO GROVELAND (ZONE)</td>\n",
       "      <td>04/01/2017</td>\n",
       "      <td>Drought</td>\n",
       "      <td>0</td>\n",
       "      <td>0</td>\n",
       "      <td>0</td>\n",
       "      <td>0</td>\n",
       "      <td>0</td>\n",
       "      <td>0</td>\n",
       "      <td>67</td>\n",
       "      <td>The Household Water Supply Shortage Reporting ...</td>\n",
       "      <td>Long term drought impacts continued to ease th...</td>\n",
       "    </tr>\n",
       "    <tr>\n",
       "      <th>538</th>\n",
       "      <td>699895</td>\n",
       "      <td>NORTHERN SAN JOAQUIN VALLEY (ZONE)</td>\n",
       "      <td>04/01/2017</td>\n",
       "      <td>Drought</td>\n",
       "      <td>0</td>\n",
       "      <td>0</td>\n",
       "      <td>0</td>\n",
       "      <td>0</td>\n",
       "      <td>0</td>\n",
       "      <td>0</td>\n",
       "      <td>19</td>\n",
       "      <td>The Household Water Supply Shortage Reporting ...</td>\n",
       "      <td>Long term drought impacts continued to ease th...</td>\n",
       "    </tr>\n",
       "  </tbody>\n",
       "</table>\n",
       "<p>539 rows × 13 columns</p>\n",
       "</div>"
      ],
      "text/plain": [
       "     NOAA ID                                  County Name        Date  \\\n",
       "0     497009            SOUTHERN SACRAMENTO VALLEY (ZONE)  01/01/2014   \n",
       "1     498466                    SE KERN CTY DESERT (ZONE)  01/01/2014   \n",
       "2     498465                      INDIAN WELLS VLY (ZONE)  01/01/2014   \n",
       "3     498464                       TULARE CTY MTNS (ZONE)  01/01/2014   \n",
       "4     498463                         S SIERRA MTNS (ZONE)  01/01/2014   \n",
       "..       ...                                          ...         ...   \n",
       "534   699890  MOTHERLODE/CAMPTONVILLE TO GROVELAND (ZONE)  02/01/2017   \n",
       "535   699859           NORTHERN SAN JOAQUIN VALLEY (ZONE)  03/01/2017   \n",
       "536   699889  MOTHERLODE/CAMPTONVILLE TO GROVELAND (ZONE)  03/01/2017   \n",
       "537   699893  MOTHERLODE/CAMPTONVILLE TO GROVELAND (ZONE)  04/01/2017   \n",
       "538   699895           NORTHERN SAN JOAQUIN VALLEY (ZONE)  04/01/2017   \n",
       "\n",
       "        Type  Direct Deaths  Indirect Deaths  Direct Injuries  \\\n",
       "0    Drought              0                0                0   \n",
       "1    Drought              0                0                0   \n",
       "2    Drought              0                0                0   \n",
       "3    Drought              0                0                0   \n",
       "4    Drought              0                0                0   \n",
       "..       ...            ...              ...              ...   \n",
       "534  Drought              0                0                0   \n",
       "535  Drought              0                0                0   \n",
       "536  Drought              0                0                0   \n",
       "537  Drought              0                0                0   \n",
       "538  Drought              0                0                0   \n",
       "\n",
       "     Indirect Injuries  Property Damage  Crop Damage  NOAA FIPS  \\\n",
       "0                    0                0            0         17   \n",
       "1                    0                0            0         99   \n",
       "2                    0                0            0         98   \n",
       "3                    0                0            0         97   \n",
       "4                    0                0            0         96   \n",
       "..                 ...              ...          ...        ...   \n",
       "534                  0                0            0         67   \n",
       "535                  0                0            0         19   \n",
       "536                  0                0            0         67   \n",
       "537                  0                0            0         67   \n",
       "538                  0                0            0         19   \n",
       "\n",
       "                                       Event Narrative  \\\n",
       "0    A plethora of records were set across interior...   \n",
       "1                                                  NaN   \n",
       "2                                                  NaN   \n",
       "3                                                  NaN   \n",
       "4                                                  NaN   \n",
       "..                                                 ...   \n",
       "534  The Household Water Supply Shortage Reporting ...   \n",
       "535  The Household Water Supply Shortage Reporting ...   \n",
       "536  The Household Water Supply Shortage Reporting ...   \n",
       "537  The Household Water Supply Shortage Reporting ...   \n",
       "538  The Household Water Supply Shortage Reporting ...   \n",
       "\n",
       "                                     Episode Narrative  \n",
       "0    January was an abnormally dry and warm month f...  \n",
       "1    The California drought continued in full force...  \n",
       "2    The California drought continued in full force...  \n",
       "3    The California drought continued in full force...  \n",
       "4    The California drought continued in full force...  \n",
       "..                                                 ...  \n",
       "534  Long term drought impacts continued to decreas...  \n",
       "535  Long term drought impacts continued to decreas...  \n",
       "536  Long term drought impacts continued to decreas...  \n",
       "537  Long term drought impacts continued to ease th...  \n",
       "538  Long term drought impacts continued to ease th...  \n",
       "\n",
       "[539 rows x 13 columns]"
      ]
     },
     "execution_count": 18,
     "metadata": {},
     "output_type": "execute_result"
    }
   ],
   "source": [
    "clean_drought_df = reduced_drought_df.rename(columns={'EVENT_ID': 'NOAA ID', \n",
    "                                              'CZ_NAME_STR': 'County Name', \n",
    "                                              'BEGIN_DATE': 'Date', \n",
    "                                              'EVENT_TYPE': 'Type', \n",
    "                                              'DEATHS_DIRECT': 'Direct Deaths', \n",
    "                                              'DEATHS_INDIRECT': 'Indirect Deaths', \n",
    "                                              'INJURIES_DIRECT': 'Direct Injuries', \n",
    "                                              'INJURIES_INDIRECT': 'Indirect Injuries', \n",
    "                                              'DAMAGE_PROPERTY_NUM': 'Property Damage', \n",
    "                                              'DAMAGE_CROPS_NUM': 'Crop Damage', \n",
    "                                              'CZ_FIPS': 'NOAA FIPS',\n",
    "                                              'EVENT_NARRATIVE': 'Event Narrative', \n",
    "                                              'EPISODE_NARRATIVE': 'Episode Narrative' })\n",
    "clean_drought_df"
   ]
  },
  {
   "cell_type": "code",
   "execution_count": 24,
   "id": "instructional-shanghai",
   "metadata": {},
   "outputs": [
    {
     "data": {
      "text/plain": [
       "KERN CTY MTNS (ZONE)                                                35\n",
       "SE KERN CTY DESERT (ZONE)                                           35\n",
       "SW S.J. VALLEY (ZONE)                                               34\n",
       "E CENTRAL S.J. VALLEY (ZONE)                                        34\n",
       "S SIERRA FOOTHILLS (ZONE)                                           34\n",
       "W CENTRAL S.J. VALLEY (ZONE)                                        34\n",
       "SE S.J. VALLEY (ZONE)                                               34\n",
       "S SIERRA MTNS (ZONE)                                                34\n",
       "TULARE CTY MTNS (ZONE)                                              34\n",
       "INDIAN WELLS VLY (ZONE)                                             34\n",
       "TULARE CTY FOOTHILLS (ZONE)                                         34\n",
       "NORTHERN SAN JOAQUIN VALLEY (ZONE)                                  25\n",
       "SOUTHERN SACRAMENTO VALLEY (ZONE)                                   18\n",
       "NORTHERN SACRAMENTO VALLEY (ZONE)                                   17\n",
       "MOTHERLODE/CAMPTONVILLE TO GROVELAND (ZONE)                         17\n",
       "CARQUINEZ STRAIT AND DELTA (ZONE)                                   14\n",
       "CENTRAL SACRAMENTO VALLEY (ZONE)                                    11\n",
       "WEST SLOPE NORTHERN SIERRA NEVADA (ZONE)                            10\n",
       "CLEAR LAKE/SOUTHERN LAKE COUNTY (ZONE)                               9\n",
       "MOUNTAINS SOUTHWEST SHASTA COUNTY TO NORTHERN LAKE COUNTY (ZONE)     6\n",
       "SOUTH SIERRA MOUNTAINS (ZONE)                                        3\n",
       "SOUTH SIERRA FOOTHILLS (ZONE)                                        3\n",
       "WEST CENTRAL SAN JOAQUIN VALLEY (ZONE)                               3\n",
       "TULARE COUNTY FOOTHILLS (ZONE)                                       3\n",
       "INDIAN WELLS VALLEY (ZONE)                                           3\n",
       "EAST CENTRAL SAN JOAQUIN VALLEY (ZONE)                               3\n",
       "SOUTHWEST SAN JOAQUIN VALLEY (ZONE)                                  3\n",
       "TULARE COUNTY MOUNTAINS (ZONE)                                       3\n",
       "KERN COUNTY MOUNTAINS (ZONE)                                         3\n",
       "SOUTHEAST KERN COUNTY DESERT (ZONE)                                  3\n",
       "SOUTHEAST SAN JOAQUIN VALLEY (ZONE)                                  3\n",
       "SHASTA LAKE/NORTH SHASTA COUNTY (ZONE)                               2\n",
       "MT SHASTA/WESTERN PLUMAS COUNTY (ZONE)                               1\n",
       "Name: County Name, dtype: int64"
      ]
     },
     "execution_count": 24,
     "metadata": {},
     "output_type": "execute_result"
    }
   ],
   "source": [
    "clean_drought_df['County Name'].value_counts()"
   ]
  },
  {
   "cell_type": "code",
   "execution_count": 28,
   "id": "healthy-scheme",
   "metadata": {},
   "outputs": [
    {
     "data": {
      "text/plain": [
       "0    539\n",
       "Name: Direct Deaths, dtype: int64"
      ]
     },
     "execution_count": 28,
     "metadata": {},
     "output_type": "execute_result"
    }
   ],
   "source": [
    "clean_drought_df[\"Direct Deaths\"].value_counts()"
   ]
  },
  {
   "cell_type": "code",
   "execution_count": 29,
   "id": "subject-savannah",
   "metadata": {},
   "outputs": [
    {
     "data": {
      "text/plain": [
       "0    539\n",
       "Name: Indirect Deaths, dtype: int64"
      ]
     },
     "execution_count": 29,
     "metadata": {},
     "output_type": "execute_result"
    }
   ],
   "source": [
    "clean_drought_df[\"Indirect Deaths\"].value_counts()"
   ]
  },
  {
   "cell_type": "code",
   "execution_count": 30,
   "id": "accompanied-senator",
   "metadata": {},
   "outputs": [
    {
     "data": {
      "text/plain": [
       "0    539\n",
       "Name: Direct Injuries, dtype: int64"
      ]
     },
     "execution_count": 30,
     "metadata": {},
     "output_type": "execute_result"
    }
   ],
   "source": [
    "clean_drought_df[\"Direct Injuries\"].value_counts()"
   ]
  },
  {
   "cell_type": "code",
   "execution_count": 31,
   "id": "painful-methodology",
   "metadata": {},
   "outputs": [
    {
     "data": {
      "text/plain": [
       "0    539\n",
       "Name: Indirect Injuries, dtype: int64"
      ]
     },
     "execution_count": 31,
     "metadata": {},
     "output_type": "execute_result"
    }
   ],
   "source": [
    "clean_drought_df[\"Indirect Injuries\"].value_counts()"
   ]
  },
  {
   "cell_type": "code",
   "execution_count": 32,
   "id": "impaired-simple",
   "metadata": {},
   "outputs": [
    {
     "data": {
      "text/plain": [
       "0    539\n",
       "Name: Property Damage, dtype: int64"
      ]
     },
     "execution_count": 32,
     "metadata": {},
     "output_type": "execute_result"
    }
   ],
   "source": [
    "clean_drought_df[\"Property Damage\"].value_counts()"
   ]
  },
  {
   "cell_type": "code",
   "execution_count": 33,
   "id": "bored-journal",
   "metadata": {},
   "outputs": [
    {
     "data": {
      "text/plain": [
       "0             538\n",
       "1500000000      1\n",
       "Name: Crop Damage, dtype: int64"
      ]
     },
     "execution_count": 33,
     "metadata": {},
     "output_type": "execute_result"
    }
   ],
   "source": [
    "clean_drought_df[\"Crop Damage\"].value_counts()"
   ]
  },
  {
   "cell_type": "code",
   "execution_count": 34,
   "id": "valuable-border",
   "metadata": {},
   "outputs": [
    {
     "data": {
      "text/plain": [
       "99    38\n",
       "95    38\n",
       "92    37\n",
       "98    37\n",
       "89    37\n",
       "90    37\n",
       "91    37\n",
       "93    37\n",
       "94    37\n",
       "96    37\n",
       "97    37\n",
       "19    25\n",
       "17    18\n",
       "15    17\n",
       "67    17\n",
       "18    14\n",
       "16    11\n",
       "69    10\n",
       "64     9\n",
       "63     6\n",
       "13     2\n",
       "68     1\n",
       "Name: NOAA FIPS, dtype: int64"
      ]
     },
     "execution_count": 34,
     "metadata": {},
     "output_type": "execute_result"
    }
   ],
   "source": [
    "clean_drought_df[\"NOAA FIPS\"].value_counts()"
   ]
  },
  {
   "cell_type": "code",
   "execution_count": 39,
   "id": "creative-trademark",
   "metadata": {},
   "outputs": [
    {
     "data": {
      "image/png": "[encoded data removed]",
      "text/plain": [
       "<Figure size 432x288 with 1 Axes>"
      ]
     },
     "metadata": {
      "needs_background": "light"
     },
     "output_type": "display_data"
    }
   ],
   "source": [
    "plt.scatter(clean_drought_df.iloc[:,1],clean_drought_df.iloc[:,2])\n",
    "plt.xlabel('County')\n",
    "plt.ylabel('Date')\n",
    "plt.show()"
   ]
  },
  {
   "cell_type": "code",
   "execution_count": 40,
   "id": "grave-holder",
   "metadata": {},
   "outputs": [
    {
     "data": {
      "image/png": "[encoded data removed]",
      "text/plain": [
       "<Figure size 432x288 with 1 Axes>"
      ]
     },
     "metadata": {
      "needs_background": "light"
     },
     "output_type": "display_data"
    }
   ],
   "source": [
    "plt.scatter(clean_drought_df.iloc[:,1],clean_drought_df.iloc[:,4])\n",
    "plt.xlabel('County')\n",
    "plt.ylabel('Direct Deaths')\n",
    "plt.show()"
   ]
  },
  {
   "cell_type": "code",
   "execution_count": 41,
   "id": "maritime-guide",
   "metadata": {},
   "outputs": [
    {
     "data": {
      "image/png": "[encoded data removed]",
      "text/plain": [
       "<Figure size 432x288 with 1 Axes>"
      ]
     },
     "metadata": {
      "needs_background": "light"
     },
     "output_type": "display_data"
    }
   ],
   "source": [
    "plt.scatter(clean_drought_df.iloc[:,1],clean_drought_df.iloc[:,5])\n",
    "plt.xlabel('County')\n",
    "plt.ylabel('Indirect Deaths')\n",
    "plt.show()"
   ]
  },
  {
   "cell_type": "code",
   "execution_count": 42,
   "id": "congressional-parcel",
   "metadata": {},
   "outputs": [
    {
     "data": {
      "image/png": "[encoded data removed]",
      "text/plain": [
       "<Figure size 432x288 with 1 Axes>"
      ]
     },
     "metadata": {
      "needs_background": "light"
     },
     "output_type": "display_data"
    }
   ],
   "source": [
    "plt.scatter(clean_drought_df.iloc[:,1],clean_drought_df.iloc[:,6])\n",
    "plt.xlabel('County')\n",
    "plt.ylabel('Direct Injuries')\n",
    "plt.show()"
   ]
  },
  {
   "cell_type": "code",
   "execution_count": 43,
   "id": "temporal-parcel",
   "metadata": {},
   "outputs": [
    {
     "data": {
      "image/png": "[encoded data removed]",
      "text/plain": [
       "<Figure size 432x288 with 1 Axes>"
      ]
     },
     "metadata": {
      "needs_background": "light"
     },
     "output_type": "display_data"
    }
   ],
   "source": [
    "plt.scatter(clean_drought_df.iloc[:,1],clean_drought_df.iloc[:,7])\n",
    "plt.xlabel('County')\n",
    "plt.ylabel('Indirect Injuries')\n",
    "plt.show()"
   ]
  },
  {
   "cell_type": "code",
   "execution_count": 44,
   "id": "alpha-machinery",
   "metadata": {},
   "outputs": [
    {
     "data": {
      "image/png": "[encoded data removed]",
      "text/plain": [
       "<Figure size 432x288 with 1 Axes>"
      ]
     },
     "metadata": {
      "needs_background": "light"
     },
     "output_type": "display_data"
    }
   ],
   "source": [
    "plt.scatter(clean_drought_df.iloc[:,1],clean_drought_df.iloc[:,8])\n",
    "plt.xlabel('County')\n",
    "plt.ylabel('Property Damage')\n",
    "plt.show()"
   ]
  },
  {
   "cell_type": "code",
   "execution_count": 45,
   "id": "charming-alaska",
   "metadata": {},
   "outputs": [
    {
     "data": {
      "image/png": "[encoded data removed]",
      "text/plain": [
       "<Figure size 432x288 with 1 Axes>"
      ]
     },
     "metadata": {
      "needs_background": "light"
     },
     "output_type": "display_data"
    }
   ],
   "source": [
    "plt.scatter(clean_drought_df.iloc[:,1],clean_drought_df.iloc[:,9])\n",
    "plt.xlabel('County')\n",
    "plt.ylabel('Crop Damage')\n",
    "plt.show()"
   ]
  },
  {
   "cell_type": "code",
   "execution_count": null,
   "id": "cordless-spouse",
   "metadata": {},
   "outputs": [],
   "source": []
  }
 ],
 "metadata": {
  "kernelspec": {
   "display_name": "Python 3",
   "language": "python",
   "name": "python3"
  },
  "language_info": {
   "codemirror_mode": {
    "name": "ipython",
    "version": 3
   },
   "file_extension": ".py",
   "mimetype": "text/x-python",
   "name": "python",
   "nbconvert_exporter": "python",
   "pygments_lexer": "ipython3",
   "version": "3.6.10"
  }
 },
 "nbformat": 4,
 "nbformat_minor": 5
}
